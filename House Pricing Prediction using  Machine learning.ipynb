{
 "cells": [
  {
   "cell_type": "markdown",
   "metadata": {},
   "source": [
    "# Name:\n",
    "#          Adnan Akhter \n",
    "\n",
    "# Topic:\n",
    "#             Predicting The House Price Using Machine Learning"
   ]
  },
  {
   "cell_type": "code",
   "execution_count": 1,
   "metadata": {},
   "outputs": [],
   "source": [
    "# #pip install bayesian-optimization\n",
    "# pip install 'ray[tune]'"
   ]
  },
  {
   "cell_type": "code",
   "execution_count": 2,
   "metadata": {},
   "outputs": [],
   "source": [
    "#importing the libraries\n",
    "import pandas as pd\n",
    "import numpy as np\n",
    "import matplotlib.pyplot as plt\n",
    "import seaborn as sns\n",
    "from sklearn.model_selection import GridSearchCV\n",
    "from sklearn.model_selection import RandomizedSearchCV\n",
    "from sklearn.metrics import r2_score\n",
    "from sklearn import metrics\n",
    "\n",
    "#Random Forest\n",
    "# from hyperband import HyperbandSearchCV\n",
    "# from scipy.stats import randint as sp_randint\n"
   ]
  },
  {
   "cell_type": "code",
   "execution_count": 3,
   "metadata": {},
   "outputs": [],
   "source": [
    "%matplotlib inline"
   ]
  },
  {
   "cell_type": "code",
   "execution_count": 4,
   "metadata": {},
   "outputs": [
    {
     "data": {
      "text/html": [
       "<div>\n",
       "<style scoped>\n",
       "    .dataframe tbody tr th:only-of-type {\n",
       "        vertical-align: middle;\n",
       "    }\n",
       "\n",
       "    .dataframe tbody tr th {\n",
       "        vertical-align: top;\n",
       "    }\n",
       "\n",
       "    .dataframe thead th {\n",
       "        text-align: right;\n",
       "    }\n",
       "</style>\n",
       "<table border=\"1\" class=\"dataframe\">\n",
       "  <thead>\n",
       "    <tr style=\"text-align: right;\">\n",
       "      <th></th>\n",
       "      <th>Sr. No/ID</th>\n",
       "      <th>Colony</th>\n",
       "      <th>Phasees</th>\n",
       "      <th>Block</th>\n",
       "      <th>Zone</th>\n",
       "      <th>Size in Marla</th>\n",
       "      <th>Side</th>\n",
       "      <th>Park Facing</th>\n",
       "      <th>Market Facing</th>\n",
       "      <th>Near Mosque</th>\n",
       "      <th>Near School</th>\n",
       "      <th>Electricity</th>\n",
       "      <th>Natural Gas</th>\n",
       "      <th>WASA</th>\n",
       "      <th>Pricees</th>\n",
       "    </tr>\n",
       "  </thead>\n",
       "  <tbody>\n",
       "    <tr>\n",
       "      <th>0</th>\n",
       "      <td>1</td>\n",
       "      <td>Alfalah Modern City</td>\n",
       "      <td>1</td>\n",
       "      <td>1</td>\n",
       "      <td>1</td>\n",
       "      <td>5.0</td>\n",
       "      <td>0</td>\n",
       "      <td>0</td>\n",
       "      <td>0</td>\n",
       "      <td>0</td>\n",
       "      <td>0</td>\n",
       "      <td>1</td>\n",
       "      <td>1</td>\n",
       "      <td>1</td>\n",
       "      <td>25.0</td>\n",
       "    </tr>\n",
       "    <tr>\n",
       "      <th>1</th>\n",
       "      <td>2</td>\n",
       "      <td>Alfalah Modern City</td>\n",
       "      <td>1</td>\n",
       "      <td>1</td>\n",
       "      <td>1</td>\n",
       "      <td>5.0</td>\n",
       "      <td>0</td>\n",
       "      <td>1</td>\n",
       "      <td>0</td>\n",
       "      <td>0</td>\n",
       "      <td>0</td>\n",
       "      <td>1</td>\n",
       "      <td>1</td>\n",
       "      <td>1</td>\n",
       "      <td>25.0</td>\n",
       "    </tr>\n",
       "    <tr>\n",
       "      <th>2</th>\n",
       "      <td>3</td>\n",
       "      <td>Alfalah Modern City</td>\n",
       "      <td>1</td>\n",
       "      <td>1</td>\n",
       "      <td>2</td>\n",
       "      <td>5.0</td>\n",
       "      <td>0</td>\n",
       "      <td>1</td>\n",
       "      <td>1</td>\n",
       "      <td>0</td>\n",
       "      <td>0</td>\n",
       "      <td>1</td>\n",
       "      <td>1</td>\n",
       "      <td>1</td>\n",
       "      <td>27.5</td>\n",
       "    </tr>\n",
       "    <tr>\n",
       "      <th>3</th>\n",
       "      <td>4</td>\n",
       "      <td>Alfalah Modern City</td>\n",
       "      <td>1</td>\n",
       "      <td>1</td>\n",
       "      <td>2</td>\n",
       "      <td>5.0</td>\n",
       "      <td>0</td>\n",
       "      <td>1</td>\n",
       "      <td>1</td>\n",
       "      <td>1</td>\n",
       "      <td>0</td>\n",
       "      <td>1</td>\n",
       "      <td>1</td>\n",
       "      <td>1</td>\n",
       "      <td>27.5</td>\n",
       "    </tr>\n",
       "    <tr>\n",
       "      <th>4</th>\n",
       "      <td>5</td>\n",
       "      <td>Alfalah Modern City</td>\n",
       "      <td>1</td>\n",
       "      <td>1</td>\n",
       "      <td>1</td>\n",
       "      <td>5.0</td>\n",
       "      <td>1</td>\n",
       "      <td>0</td>\n",
       "      <td>0</td>\n",
       "      <td>0</td>\n",
       "      <td>0</td>\n",
       "      <td>1</td>\n",
       "      <td>1</td>\n",
       "      <td>1</td>\n",
       "      <td>25.0</td>\n",
       "    </tr>\n",
       "    <tr>\n",
       "      <th>...</th>\n",
       "      <td>...</td>\n",
       "      <td>...</td>\n",
       "      <td>...</td>\n",
       "      <td>...</td>\n",
       "      <td>...</td>\n",
       "      <td>...</td>\n",
       "      <td>...</td>\n",
       "      <td>...</td>\n",
       "      <td>...</td>\n",
       "      <td>...</td>\n",
       "      <td>...</td>\n",
       "      <td>...</td>\n",
       "      <td>...</td>\n",
       "      <td>...</td>\n",
       "      <td>...</td>\n",
       "    </tr>\n",
       "    <tr>\n",
       "      <th>195</th>\n",
       "      <td>196</td>\n",
       "      <td>Royal Grace City</td>\n",
       "      <td>1</td>\n",
       "      <td>1</td>\n",
       "      <td>1</td>\n",
       "      <td>5.0</td>\n",
       "      <td>1</td>\n",
       "      <td>0</td>\n",
       "      <td>0</td>\n",
       "      <td>0</td>\n",
       "      <td>0</td>\n",
       "      <td>1</td>\n",
       "      <td>1</td>\n",
       "      <td>1</td>\n",
       "      <td>17.5</td>\n",
       "    </tr>\n",
       "    <tr>\n",
       "      <th>196</th>\n",
       "      <td>197</td>\n",
       "      <td>Royal Grace City</td>\n",
       "      <td>1</td>\n",
       "      <td>1</td>\n",
       "      <td>1</td>\n",
       "      <td>5.0</td>\n",
       "      <td>0</td>\n",
       "      <td>1</td>\n",
       "      <td>0</td>\n",
       "      <td>1</td>\n",
       "      <td>0</td>\n",
       "      <td>1</td>\n",
       "      <td>1</td>\n",
       "      <td>1</td>\n",
       "      <td>15.0</td>\n",
       "    </tr>\n",
       "    <tr>\n",
       "      <th>197</th>\n",
       "      <td>198</td>\n",
       "      <td>Royal Grace City</td>\n",
       "      <td>1</td>\n",
       "      <td>1</td>\n",
       "      <td>1</td>\n",
       "      <td>5.0</td>\n",
       "      <td>0</td>\n",
       "      <td>1</td>\n",
       "      <td>0</td>\n",
       "      <td>0</td>\n",
       "      <td>0</td>\n",
       "      <td>1</td>\n",
       "      <td>1</td>\n",
       "      <td>1</td>\n",
       "      <td>15.0</td>\n",
       "    </tr>\n",
       "    <tr>\n",
       "      <th>198</th>\n",
       "      <td>199</td>\n",
       "      <td>Royal Grace City</td>\n",
       "      <td>1</td>\n",
       "      <td>1</td>\n",
       "      <td>1</td>\n",
       "      <td>7.0</td>\n",
       "      <td>0</td>\n",
       "      <td>0</td>\n",
       "      <td>0</td>\n",
       "      <td>0</td>\n",
       "      <td>0</td>\n",
       "      <td>1</td>\n",
       "      <td>1</td>\n",
       "      <td>1</td>\n",
       "      <td>21.0</td>\n",
       "    </tr>\n",
       "    <tr>\n",
       "      <th>199</th>\n",
       "      <td>200</td>\n",
       "      <td>Royal Grace City</td>\n",
       "      <td>1</td>\n",
       "      <td>1</td>\n",
       "      <td>1</td>\n",
       "      <td>7.0</td>\n",
       "      <td>1</td>\n",
       "      <td>0</td>\n",
       "      <td>0</td>\n",
       "      <td>0</td>\n",
       "      <td>0</td>\n",
       "      <td>1</td>\n",
       "      <td>1</td>\n",
       "      <td>1</td>\n",
       "      <td>21.0</td>\n",
       "    </tr>\n",
       "  </tbody>\n",
       "</table>\n",
       "<p>200 rows × 15 columns</p>\n",
       "</div>"
      ],
      "text/plain": [
       "     Sr. No/ID               Colony  Phasees  Block  Zone  Size in Marla  \\\n",
       "0            1  Alfalah Modern City        1      1     1            5.0   \n",
       "1            2  Alfalah Modern City        1      1     1            5.0   \n",
       "2            3  Alfalah Modern City        1      1     2            5.0   \n",
       "3            4  Alfalah Modern City        1      1     2            5.0   \n",
       "4            5  Alfalah Modern City        1      1     1            5.0   \n",
       "..         ...                  ...      ...    ...   ...            ...   \n",
       "195        196     Royal Grace City        1      1     1            5.0   \n",
       "196        197     Royal Grace City        1      1     1            5.0   \n",
       "197        198     Royal Grace City        1      1     1            5.0   \n",
       "198        199     Royal Grace City        1      1     1            7.0   \n",
       "199        200     Royal Grace City        1      1     1            7.0   \n",
       "\n",
       "     Side  Park Facing  Market Facing  Near Mosque  Near School  Electricity  \\\n",
       "0       0            0              0            0            0            1   \n",
       "1       0            1              0            0            0            1   \n",
       "2       0            1              1            0            0            1   \n",
       "3       0            1              1            1            0            1   \n",
       "4       1            0              0            0            0            1   \n",
       "..    ...          ...            ...          ...          ...          ...   \n",
       "195     1            0              0            0            0            1   \n",
       "196     0            1              0            1            0            1   \n",
       "197     0            1              0            0            0            1   \n",
       "198     0            0              0            0            0            1   \n",
       "199     1            0              0            0            0            1   \n",
       "\n",
       "     Natural Gas  WASA  Pricees  \n",
       "0              1     1     25.0  \n",
       "1              1     1     25.0  \n",
       "2              1     1     27.5  \n",
       "3              1     1     27.5  \n",
       "4              1     1     25.0  \n",
       "..           ...   ...      ...  \n",
       "195            1     1     17.5  \n",
       "196            1     1     15.0  \n",
       "197            1     1     15.0  \n",
       "198            1     1     21.0  \n",
       "199            1     1     21.0  \n",
       "\n",
       "[200 rows x 15 columns]"
      ]
     },
     "execution_count": 4,
     "metadata": {},
     "output_type": "execute_result"
    }
   ],
   "source": [
    "#loading the dataset of USA Hosing\n",
    "df = pd.read_csv('multanplots.csv')\n",
    "df.head(200)"
   ]
  },
  {
   "cell_type": "code",
   "execution_count": 5,
   "metadata": {},
   "outputs": [
    {
     "data": {
      "text/plain": [
       "Index(['Sr. No/ID', 'Colony', 'Phasees', 'Block', 'Zone', 'Size in Marla',\n",
       "       'Side', 'Park Facing', 'Market Facing', 'Near Mosque', 'Near School',\n",
       "       'Electricity', 'Natural Gas', 'WASA', 'Pricees'],\n",
       "      dtype='object')"
      ]
     },
     "execution_count": 5,
     "metadata": {},
     "output_type": "execute_result"
    }
   ],
   "source": [
    "df.columns"
   ]
  },
  {
   "cell_type": "code",
   "execution_count": 6,
   "metadata": {},
   "outputs": [],
   "source": [
    "# df.columns=['income', 'age', 'rooms', 'bedrooms', 'population', 'Price', 'address']"
   ]
  },
  {
   "cell_type": "markdown",
   "metadata": {},
   "source": [
    "# Can some interesting feature be extraced from address column data"
   ]
  },
  {
   "cell_type": "code",
   "execution_count": 7,
   "metadata": {},
   "outputs": [
    {
     "data": {
      "text/html": [
       "<div>\n",
       "<style scoped>\n",
       "    .dataframe tbody tr th:only-of-type {\n",
       "        vertical-align: middle;\n",
       "    }\n",
       "\n",
       "    .dataframe tbody tr th {\n",
       "        vertical-align: top;\n",
       "    }\n",
       "\n",
       "    .dataframe thead th {\n",
       "        text-align: right;\n",
       "    }\n",
       "</style>\n",
       "<table border=\"1\" class=\"dataframe\">\n",
       "  <thead>\n",
       "    <tr style=\"text-align: right;\">\n",
       "      <th></th>\n",
       "      <th>Sr. No/ID</th>\n",
       "      <th>Colony</th>\n",
       "      <th>Phasees</th>\n",
       "      <th>Block</th>\n",
       "      <th>Zone</th>\n",
       "      <th>Size in Marla</th>\n",
       "      <th>Side</th>\n",
       "      <th>Park Facing</th>\n",
       "      <th>Market Facing</th>\n",
       "      <th>Near Mosque</th>\n",
       "      <th>Near School</th>\n",
       "      <th>Electricity</th>\n",
       "      <th>Natural Gas</th>\n",
       "      <th>WASA</th>\n",
       "      <th>Pricees</th>\n",
       "      <th>Colony_new</th>\n",
       "    </tr>\n",
       "  </thead>\n",
       "  <tbody>\n",
       "    <tr>\n",
       "      <th>203</th>\n",
       "      <td>204</td>\n",
       "      <td>Royal Grace City</td>\n",
       "      <td>1</td>\n",
       "      <td>1</td>\n",
       "      <td>1</td>\n",
       "      <td>15.0</td>\n",
       "      <td>1</td>\n",
       "      <td>0</td>\n",
       "      <td>0</td>\n",
       "      <td>0</td>\n",
       "      <td>0</td>\n",
       "      <td>1</td>\n",
       "      <td>1</td>\n",
       "      <td>1</td>\n",
       "      <td>45.0</td>\n",
       "      <td>7.0</td>\n",
       "    </tr>\n",
       "    <tr>\n",
       "      <th>204</th>\n",
       "      <td>205</td>\n",
       "      <td>Royal Grace City</td>\n",
       "      <td>1</td>\n",
       "      <td>1</td>\n",
       "      <td>1</td>\n",
       "      <td>20.0</td>\n",
       "      <td>0</td>\n",
       "      <td>0</td>\n",
       "      <td>0</td>\n",
       "      <td>0</td>\n",
       "      <td>0</td>\n",
       "      <td>1</td>\n",
       "      <td>1</td>\n",
       "      <td>1</td>\n",
       "      <td>40.0</td>\n",
       "      <td>7.0</td>\n",
       "    </tr>\n",
       "    <tr>\n",
       "      <th>205</th>\n",
       "      <td>206</td>\n",
       "      <td>Royal Grace City</td>\n",
       "      <td>1</td>\n",
       "      <td>1</td>\n",
       "      <td>1</td>\n",
       "      <td>20.0</td>\n",
       "      <td>1</td>\n",
       "      <td>0</td>\n",
       "      <td>0</td>\n",
       "      <td>0</td>\n",
       "      <td>0</td>\n",
       "      <td>1</td>\n",
       "      <td>1</td>\n",
       "      <td>1</td>\n",
       "      <td>40.0</td>\n",
       "      <td>7.0</td>\n",
       "    </tr>\n",
       "    <tr>\n",
       "      <th>206</th>\n",
       "      <td>207</td>\n",
       "      <td>Royal Grace City</td>\n",
       "      <td>1</td>\n",
       "      <td>1</td>\n",
       "      <td>1</td>\n",
       "      <td>20.0</td>\n",
       "      <td>0</td>\n",
       "      <td>1</td>\n",
       "      <td>0</td>\n",
       "      <td>0</td>\n",
       "      <td>0</td>\n",
       "      <td>1</td>\n",
       "      <td>1</td>\n",
       "      <td>1</td>\n",
       "      <td>40.0</td>\n",
       "      <td>7.0</td>\n",
       "    </tr>\n",
       "    <tr>\n",
       "      <th>207</th>\n",
       "      <td>208</td>\n",
       "      <td>Royal Grace City</td>\n",
       "      <td>1</td>\n",
       "      <td>1</td>\n",
       "      <td>1</td>\n",
       "      <td>20.0</td>\n",
       "      <td>1</td>\n",
       "      <td>1</td>\n",
       "      <td>0</td>\n",
       "      <td>0</td>\n",
       "      <td>0</td>\n",
       "      <td>1</td>\n",
       "      <td>1</td>\n",
       "      <td>1</td>\n",
       "      <td>40.0</td>\n",
       "      <td>7.0</td>\n",
       "    </tr>\n",
       "  </tbody>\n",
       "</table>\n",
       "</div>"
      ],
      "text/plain": [
       "     Sr. No/ID            Colony  Phasees  Block  Zone  Size in Marla  Side  \\\n",
       "203        204  Royal Grace City        1      1     1           15.0     1   \n",
       "204        205  Royal Grace City        1      1     1           20.0     0   \n",
       "205        206  Royal Grace City        1      1     1           20.0     1   \n",
       "206        207  Royal Grace City        1      1     1           20.0     0   \n",
       "207        208  Royal Grace City        1      1     1           20.0     1   \n",
       "\n",
       "     Park Facing  Market Facing  Near Mosque  Near School  Electricity  \\\n",
       "203            0              0            0            0            1   \n",
       "204            0              0            0            0            1   \n",
       "205            0              0            0            0            1   \n",
       "206            1              0            0            0            1   \n",
       "207            1              0            0            0            1   \n",
       "\n",
       "     Natural Gas  WASA  Pricees  Colony_new  \n",
       "203            1     1     45.0         7.0  \n",
       "204            1     1     40.0         7.0  \n",
       "205            1     1     40.0         7.0  \n",
       "206            1     1     40.0         7.0  \n",
       "207            1     1     40.0         7.0  "
      ]
     },
     "execution_count": 7,
     "metadata": {},
     "output_type": "execute_result"
    }
   ],
   "source": [
    "from sklearn.preprocessing import OrdinalEncoder\n",
    "le =OrdinalEncoder()\n",
    "df[\"Colony_new\"] = le.fit_transform(df[[\"Colony\"]])\n",
    "df.tail()"
   ]
  },
  {
   "cell_type": "code",
   "execution_count": 8,
   "metadata": {},
   "outputs": [
    {
     "data": {
      "text/plain": [
       "Sr. No/ID          int64\n",
       "Colony            object\n",
       "Phasees            int64\n",
       "Block              int64\n",
       "Zone               int64\n",
       "Size in Marla    float64\n",
       "Side               int64\n",
       "Park Facing        int64\n",
       "Market Facing      int64\n",
       "Near Mosque        int64\n",
       "Near School        int64\n",
       "Electricity        int64\n",
       "Natural Gas        int64\n",
       "WASA               int64\n",
       "Pricees          float64\n",
       "Colony_new       float64\n",
       "dtype: object"
      ]
     },
     "execution_count": 8,
     "metadata": {},
     "output_type": "execute_result"
    }
   ],
   "source": [
    "df.dtypes"
   ]
  },
  {
   "cell_type": "markdown",
   "metadata": {},
   "source": [
    "# working with missing values"
   ]
  },
  {
   "cell_type": "code",
   "execution_count": 9,
   "metadata": {},
   "outputs": [
    {
     "data": {
      "text/html": [
       "<div>\n",
       "<style scoped>\n",
       "    .dataframe tbody tr th:only-of-type {\n",
       "        vertical-align: middle;\n",
       "    }\n",
       "\n",
       "    .dataframe tbody tr th {\n",
       "        vertical-align: top;\n",
       "    }\n",
       "\n",
       "    .dataframe thead th {\n",
       "        text-align: right;\n",
       "    }\n",
       "</style>\n",
       "<table border=\"1\" class=\"dataframe\">\n",
       "  <thead>\n",
       "    <tr style=\"text-align: right;\">\n",
       "      <th></th>\n",
       "      <th>Sr. No/ID</th>\n",
       "      <th>Colony</th>\n",
       "      <th>Phasees</th>\n",
       "      <th>Block</th>\n",
       "      <th>Zone</th>\n",
       "      <th>Size in Marla</th>\n",
       "      <th>Side</th>\n",
       "      <th>Park Facing</th>\n",
       "      <th>Market Facing</th>\n",
       "      <th>Near Mosque</th>\n",
       "      <th>...</th>\n",
       "      <th>new_Zone</th>\n",
       "      <th>new_marla</th>\n",
       "      <th>new_Side</th>\n",
       "      <th>new_Park Facing</th>\n",
       "      <th>new_market</th>\n",
       "      <th>new_Near Mosque</th>\n",
       "      <th>new_Near School</th>\n",
       "      <th>new_Electricity</th>\n",
       "      <th>new_Natural Gas</th>\n",
       "      <th>new_WASA</th>\n",
       "    </tr>\n",
       "  </thead>\n",
       "  <tbody>\n",
       "    <tr>\n",
       "      <th>0</th>\n",
       "      <td>1</td>\n",
       "      <td>Alfalah Modern City</td>\n",
       "      <td>1</td>\n",
       "      <td>1</td>\n",
       "      <td>1</td>\n",
       "      <td>5.0</td>\n",
       "      <td>0</td>\n",
       "      <td>0</td>\n",
       "      <td>0</td>\n",
       "      <td>0</td>\n",
       "      <td>...</td>\n",
       "      <td>0.0</td>\n",
       "      <td>0.054054</td>\n",
       "      <td>0.0</td>\n",
       "      <td>0.0</td>\n",
       "      <td>0.0</td>\n",
       "      <td>0.0</td>\n",
       "      <td>0.0</td>\n",
       "      <td>0.0</td>\n",
       "      <td>1.0</td>\n",
       "      <td>0.0</td>\n",
       "    </tr>\n",
       "    <tr>\n",
       "      <th>1</th>\n",
       "      <td>2</td>\n",
       "      <td>Alfalah Modern City</td>\n",
       "      <td>1</td>\n",
       "      <td>1</td>\n",
       "      <td>1</td>\n",
       "      <td>5.0</td>\n",
       "      <td>0</td>\n",
       "      <td>1</td>\n",
       "      <td>0</td>\n",
       "      <td>0</td>\n",
       "      <td>...</td>\n",
       "      <td>0.0</td>\n",
       "      <td>0.054054</td>\n",
       "      <td>0.0</td>\n",
       "      <td>1.0</td>\n",
       "      <td>0.0</td>\n",
       "      <td>0.0</td>\n",
       "      <td>0.0</td>\n",
       "      <td>0.0</td>\n",
       "      <td>1.0</td>\n",
       "      <td>0.0</td>\n",
       "    </tr>\n",
       "    <tr>\n",
       "      <th>2</th>\n",
       "      <td>3</td>\n",
       "      <td>Alfalah Modern City</td>\n",
       "      <td>1</td>\n",
       "      <td>1</td>\n",
       "      <td>2</td>\n",
       "      <td>5.0</td>\n",
       "      <td>0</td>\n",
       "      <td>1</td>\n",
       "      <td>1</td>\n",
       "      <td>0</td>\n",
       "      <td>...</td>\n",
       "      <td>1.0</td>\n",
       "      <td>0.054054</td>\n",
       "      <td>0.0</td>\n",
       "      <td>1.0</td>\n",
       "      <td>1.0</td>\n",
       "      <td>0.0</td>\n",
       "      <td>0.0</td>\n",
       "      <td>0.0</td>\n",
       "      <td>1.0</td>\n",
       "      <td>0.0</td>\n",
       "    </tr>\n",
       "    <tr>\n",
       "      <th>3</th>\n",
       "      <td>4</td>\n",
       "      <td>Alfalah Modern City</td>\n",
       "      <td>1</td>\n",
       "      <td>1</td>\n",
       "      <td>2</td>\n",
       "      <td>5.0</td>\n",
       "      <td>0</td>\n",
       "      <td>1</td>\n",
       "      <td>1</td>\n",
       "      <td>1</td>\n",
       "      <td>...</td>\n",
       "      <td>1.0</td>\n",
       "      <td>0.054054</td>\n",
       "      <td>0.0</td>\n",
       "      <td>1.0</td>\n",
       "      <td>1.0</td>\n",
       "      <td>1.0</td>\n",
       "      <td>0.0</td>\n",
       "      <td>0.0</td>\n",
       "      <td>1.0</td>\n",
       "      <td>0.0</td>\n",
       "    </tr>\n",
       "    <tr>\n",
       "      <th>4</th>\n",
       "      <td>5</td>\n",
       "      <td>Alfalah Modern City</td>\n",
       "      <td>1</td>\n",
       "      <td>1</td>\n",
       "      <td>1</td>\n",
       "      <td>5.0</td>\n",
       "      <td>1</td>\n",
       "      <td>0</td>\n",
       "      <td>0</td>\n",
       "      <td>0</td>\n",
       "      <td>...</td>\n",
       "      <td>0.0</td>\n",
       "      <td>0.054054</td>\n",
       "      <td>1.0</td>\n",
       "      <td>0.0</td>\n",
       "      <td>0.0</td>\n",
       "      <td>0.0</td>\n",
       "      <td>0.0</td>\n",
       "      <td>0.0</td>\n",
       "      <td>1.0</td>\n",
       "      <td>0.0</td>\n",
       "    </tr>\n",
       "  </tbody>\n",
       "</table>\n",
       "<p>5 rows × 29 columns</p>\n",
       "</div>"
      ],
      "text/plain": [
       "   Sr. No/ID               Colony  Phasees  Block  Zone  Size in Marla  Side  \\\n",
       "0          1  Alfalah Modern City        1      1     1            5.0     0   \n",
       "1          2  Alfalah Modern City        1      1     1            5.0     0   \n",
       "2          3  Alfalah Modern City        1      1     2            5.0     0   \n",
       "3          4  Alfalah Modern City        1      1     2            5.0     0   \n",
       "4          5  Alfalah Modern City        1      1     1            5.0     1   \n",
       "\n",
       "   Park Facing  Market Facing  Near Mosque  ...  new_Zone  new_marla  \\\n",
       "0            0              0            0  ...       0.0   0.054054   \n",
       "1            1              0            0  ...       0.0   0.054054   \n",
       "2            1              1            0  ...       1.0   0.054054   \n",
       "3            1              1            1  ...       1.0   0.054054   \n",
       "4            0              0            0  ...       0.0   0.054054   \n",
       "\n",
       "   new_Side  new_Park Facing  new_market  new_Near Mosque  new_Near School  \\\n",
       "0       0.0              0.0         0.0              0.0              0.0   \n",
       "1       0.0              1.0         0.0              0.0              0.0   \n",
       "2       0.0              1.0         1.0              0.0              0.0   \n",
       "3       0.0              1.0         1.0              1.0              0.0   \n",
       "4       1.0              0.0         0.0              0.0              0.0   \n",
       "\n",
       "   new_Electricity  new_Natural Gas  new_WASA  \n",
       "0              0.0              1.0       0.0  \n",
       "1              0.0              1.0       0.0  \n",
       "2              0.0              1.0       0.0  \n",
       "3              0.0              1.0       0.0  \n",
       "4              0.0              1.0       0.0  \n",
       "\n",
       "[5 rows x 29 columns]"
      ]
     },
     "execution_count": 9,
     "metadata": {},
     "output_type": "execute_result"
    }
   ],
   "source": [
    "from sklearn.preprocessing import MinMaxScaler\n",
    "norm = MinMaxScaler()\n",
    "df[\"new_Colony\"]=norm.fit_transform(df[[\"Colony_new\"]])\n",
    "df[\"new_Phase\"]=norm.fit_transform(df[[\"Phasees\"]])\n",
    "df[\"new_Block\"]=norm.fit_transform(df[[\"Block\"]])\n",
    "df[\"new_Zone\"]=norm.fit_transform(df[[\"Zone\"]])\n",
    "df[\"new_marla\"]=norm.fit_transform(df[[\"Size in Marla\"]])\n",
    "df[\"new_Side\"]=norm.fit_transform(df[[\"Side\"]])\n",
    "df[\"new_Park Facing\"]=norm.fit_transform(df[[\"Park Facing\"]])\n",
    "df[\"new_market\"]=norm.fit_transform(df[[\"Market Facing\"]])\n",
    "df[\"new_Near Mosque\"]=norm.fit_transform(df[[\"Near Mosque\"]])\n",
    "df[\"new_Near School\"]=norm.fit_transform(df[[\"Near School\"]])\n",
    "df[\"new_Electricity\"]=norm.fit_transform(df[[\"Electricity\"]])\n",
    "df[\"new_Natural Gas\"]=norm.fit_transform(df[[\"Natural Gas\"]])\n",
    "df[\"new_WASA\"]=norm.fit_transform(df[[\"WASA\"]])\n",
    "\n",
    "df.head()"
   ]
  },
  {
   "cell_type": "code",
   "execution_count": 10,
   "metadata": {},
   "outputs": [
    {
     "data": {
      "text/plain": [
       "(208, 29)"
      ]
     },
     "execution_count": 10,
     "metadata": {},
     "output_type": "execute_result"
    }
   ],
   "source": [
    "#no. of rows and col.s\n",
    "df.shape"
   ]
  },
  {
   "cell_type": "code",
   "execution_count": 11,
   "metadata": {},
   "outputs": [
    {
     "name": "stdout",
     "output_type": "stream",
     "text": [
      "<class 'pandas.core.frame.DataFrame'>\n",
      "RangeIndex: 208 entries, 0 to 207\n",
      "Data columns (total 29 columns):\n",
      " #   Column           Non-Null Count  Dtype  \n",
      "---  ------           --------------  -----  \n",
      " 0   Sr. No/ID        208 non-null    int64  \n",
      " 1   Colony           208 non-null    object \n",
      " 2   Phasees          208 non-null    int64  \n",
      " 3   Block            208 non-null    int64  \n",
      " 4   Zone             208 non-null    int64  \n",
      " 5   Size in Marla    208 non-null    float64\n",
      " 6   Side             208 non-null    int64  \n",
      " 7   Park Facing      208 non-null    int64  \n",
      " 8   Market Facing    208 non-null    int64  \n",
      " 9   Near Mosque      208 non-null    int64  \n",
      " 10  Near School      208 non-null    int64  \n",
      " 11  Electricity      208 non-null    int64  \n",
      " 12  Natural Gas      208 non-null    int64  \n",
      " 13  WASA             208 non-null    int64  \n",
      " 14  Pricees          208 non-null    float64\n",
      " 15  Colony_new       208 non-null    float64\n",
      " 16  new_Colony       208 non-null    float64\n",
      " 17  new_Phase        208 non-null    float64\n",
      " 18  new_Block        208 non-null    float64\n",
      " 19  new_Zone         208 non-null    float64\n",
      " 20  new_marla        208 non-null    float64\n",
      " 21  new_Side         208 non-null    float64\n",
      " 22  new_Park Facing  208 non-null    float64\n",
      " 23  new_market       208 non-null    float64\n",
      " 24  new_Near Mosque  208 non-null    float64\n",
      " 25  new_Near School  208 non-null    float64\n",
      " 26  new_Electricity  208 non-null    float64\n",
      " 27  new_Natural Gas  208 non-null    float64\n",
      " 28  new_WASA         208 non-null    float64\n",
      "dtypes: float64(16), int64(12), object(1)\n",
      "memory usage: 47.2+ KB\n"
     ]
    }
   ],
   "source": [
    "df.info()"
   ]
  },
  {
   "cell_type": "code",
   "execution_count": 12,
   "metadata": {},
   "outputs": [
    {
     "data": {
      "text/html": [
       "<div>\n",
       "<style scoped>\n",
       "    .dataframe tbody tr th:only-of-type {\n",
       "        vertical-align: middle;\n",
       "    }\n",
       "\n",
       "    .dataframe tbody tr th {\n",
       "        vertical-align: top;\n",
       "    }\n",
       "\n",
       "    .dataframe thead th {\n",
       "        text-align: right;\n",
       "    }\n",
       "</style>\n",
       "<table border=\"1\" class=\"dataframe\">\n",
       "  <thead>\n",
       "    <tr style=\"text-align: right;\">\n",
       "      <th></th>\n",
       "      <th>Sr. No/ID</th>\n",
       "      <th>Colony</th>\n",
       "      <th>Phasees</th>\n",
       "      <th>Block</th>\n",
       "      <th>Zone</th>\n",
       "      <th>Size in Marla</th>\n",
       "      <th>Side</th>\n",
       "      <th>Park Facing</th>\n",
       "      <th>Market Facing</th>\n",
       "      <th>Near Mosque</th>\n",
       "      <th>...</th>\n",
       "      <th>new_Zone</th>\n",
       "      <th>new_marla</th>\n",
       "      <th>new_Side</th>\n",
       "      <th>new_Park Facing</th>\n",
       "      <th>new_market</th>\n",
       "      <th>new_Near Mosque</th>\n",
       "      <th>new_Near School</th>\n",
       "      <th>new_Electricity</th>\n",
       "      <th>new_Natural Gas</th>\n",
       "      <th>new_WASA</th>\n",
       "    </tr>\n",
       "  </thead>\n",
       "  <tbody>\n",
       "    <tr>\n",
       "      <th>0</th>\n",
       "      <td>False</td>\n",
       "      <td>False</td>\n",
       "      <td>False</td>\n",
       "      <td>False</td>\n",
       "      <td>False</td>\n",
       "      <td>False</td>\n",
       "      <td>False</td>\n",
       "      <td>False</td>\n",
       "      <td>False</td>\n",
       "      <td>False</td>\n",
       "      <td>...</td>\n",
       "      <td>False</td>\n",
       "      <td>False</td>\n",
       "      <td>False</td>\n",
       "      <td>False</td>\n",
       "      <td>False</td>\n",
       "      <td>False</td>\n",
       "      <td>False</td>\n",
       "      <td>False</td>\n",
       "      <td>False</td>\n",
       "      <td>False</td>\n",
       "    </tr>\n",
       "    <tr>\n",
       "      <th>1</th>\n",
       "      <td>False</td>\n",
       "      <td>False</td>\n",
       "      <td>False</td>\n",
       "      <td>False</td>\n",
       "      <td>False</td>\n",
       "      <td>False</td>\n",
       "      <td>False</td>\n",
       "      <td>False</td>\n",
       "      <td>False</td>\n",
       "      <td>False</td>\n",
       "      <td>...</td>\n",
       "      <td>False</td>\n",
       "      <td>False</td>\n",
       "      <td>False</td>\n",
       "      <td>False</td>\n",
       "      <td>False</td>\n",
       "      <td>False</td>\n",
       "      <td>False</td>\n",
       "      <td>False</td>\n",
       "      <td>False</td>\n",
       "      <td>False</td>\n",
       "    </tr>\n",
       "    <tr>\n",
       "      <th>2</th>\n",
       "      <td>False</td>\n",
       "      <td>False</td>\n",
       "      <td>False</td>\n",
       "      <td>False</td>\n",
       "      <td>False</td>\n",
       "      <td>False</td>\n",
       "      <td>False</td>\n",
       "      <td>False</td>\n",
       "      <td>False</td>\n",
       "      <td>False</td>\n",
       "      <td>...</td>\n",
       "      <td>False</td>\n",
       "      <td>False</td>\n",
       "      <td>False</td>\n",
       "      <td>False</td>\n",
       "      <td>False</td>\n",
       "      <td>False</td>\n",
       "      <td>False</td>\n",
       "      <td>False</td>\n",
       "      <td>False</td>\n",
       "      <td>False</td>\n",
       "    </tr>\n",
       "    <tr>\n",
       "      <th>3</th>\n",
       "      <td>False</td>\n",
       "      <td>False</td>\n",
       "      <td>False</td>\n",
       "      <td>False</td>\n",
       "      <td>False</td>\n",
       "      <td>False</td>\n",
       "      <td>False</td>\n",
       "      <td>False</td>\n",
       "      <td>False</td>\n",
       "      <td>False</td>\n",
       "      <td>...</td>\n",
       "      <td>False</td>\n",
       "      <td>False</td>\n",
       "      <td>False</td>\n",
       "      <td>False</td>\n",
       "      <td>False</td>\n",
       "      <td>False</td>\n",
       "      <td>False</td>\n",
       "      <td>False</td>\n",
       "      <td>False</td>\n",
       "      <td>False</td>\n",
       "    </tr>\n",
       "    <tr>\n",
       "      <th>4</th>\n",
       "      <td>False</td>\n",
       "      <td>False</td>\n",
       "      <td>False</td>\n",
       "      <td>False</td>\n",
       "      <td>False</td>\n",
       "      <td>False</td>\n",
       "      <td>False</td>\n",
       "      <td>False</td>\n",
       "      <td>False</td>\n",
       "      <td>False</td>\n",
       "      <td>...</td>\n",
       "      <td>False</td>\n",
       "      <td>False</td>\n",
       "      <td>False</td>\n",
       "      <td>False</td>\n",
       "      <td>False</td>\n",
       "      <td>False</td>\n",
       "      <td>False</td>\n",
       "      <td>False</td>\n",
       "      <td>False</td>\n",
       "      <td>False</td>\n",
       "    </tr>\n",
       "    <tr>\n",
       "      <th>...</th>\n",
       "      <td>...</td>\n",
       "      <td>...</td>\n",
       "      <td>...</td>\n",
       "      <td>...</td>\n",
       "      <td>...</td>\n",
       "      <td>...</td>\n",
       "      <td>...</td>\n",
       "      <td>...</td>\n",
       "      <td>...</td>\n",
       "      <td>...</td>\n",
       "      <td>...</td>\n",
       "      <td>...</td>\n",
       "      <td>...</td>\n",
       "      <td>...</td>\n",
       "      <td>...</td>\n",
       "      <td>...</td>\n",
       "      <td>...</td>\n",
       "      <td>...</td>\n",
       "      <td>...</td>\n",
       "      <td>...</td>\n",
       "      <td>...</td>\n",
       "    </tr>\n",
       "    <tr>\n",
       "      <th>203</th>\n",
       "      <td>False</td>\n",
       "      <td>False</td>\n",
       "      <td>False</td>\n",
       "      <td>False</td>\n",
       "      <td>False</td>\n",
       "      <td>False</td>\n",
       "      <td>False</td>\n",
       "      <td>False</td>\n",
       "      <td>False</td>\n",
       "      <td>False</td>\n",
       "      <td>...</td>\n",
       "      <td>False</td>\n",
       "      <td>False</td>\n",
       "      <td>False</td>\n",
       "      <td>False</td>\n",
       "      <td>False</td>\n",
       "      <td>False</td>\n",
       "      <td>False</td>\n",
       "      <td>False</td>\n",
       "      <td>False</td>\n",
       "      <td>False</td>\n",
       "    </tr>\n",
       "    <tr>\n",
       "      <th>204</th>\n",
       "      <td>False</td>\n",
       "      <td>False</td>\n",
       "      <td>False</td>\n",
       "      <td>False</td>\n",
       "      <td>False</td>\n",
       "      <td>False</td>\n",
       "      <td>False</td>\n",
       "      <td>False</td>\n",
       "      <td>False</td>\n",
       "      <td>False</td>\n",
       "      <td>...</td>\n",
       "      <td>False</td>\n",
       "      <td>False</td>\n",
       "      <td>False</td>\n",
       "      <td>False</td>\n",
       "      <td>False</td>\n",
       "      <td>False</td>\n",
       "      <td>False</td>\n",
       "      <td>False</td>\n",
       "      <td>False</td>\n",
       "      <td>False</td>\n",
       "    </tr>\n",
       "    <tr>\n",
       "      <th>205</th>\n",
       "      <td>False</td>\n",
       "      <td>False</td>\n",
       "      <td>False</td>\n",
       "      <td>False</td>\n",
       "      <td>False</td>\n",
       "      <td>False</td>\n",
       "      <td>False</td>\n",
       "      <td>False</td>\n",
       "      <td>False</td>\n",
       "      <td>False</td>\n",
       "      <td>...</td>\n",
       "      <td>False</td>\n",
       "      <td>False</td>\n",
       "      <td>False</td>\n",
       "      <td>False</td>\n",
       "      <td>False</td>\n",
       "      <td>False</td>\n",
       "      <td>False</td>\n",
       "      <td>False</td>\n",
       "      <td>False</td>\n",
       "      <td>False</td>\n",
       "    </tr>\n",
       "    <tr>\n",
       "      <th>206</th>\n",
       "      <td>False</td>\n",
       "      <td>False</td>\n",
       "      <td>False</td>\n",
       "      <td>False</td>\n",
       "      <td>False</td>\n",
       "      <td>False</td>\n",
       "      <td>False</td>\n",
       "      <td>False</td>\n",
       "      <td>False</td>\n",
       "      <td>False</td>\n",
       "      <td>...</td>\n",
       "      <td>False</td>\n",
       "      <td>False</td>\n",
       "      <td>False</td>\n",
       "      <td>False</td>\n",
       "      <td>False</td>\n",
       "      <td>False</td>\n",
       "      <td>False</td>\n",
       "      <td>False</td>\n",
       "      <td>False</td>\n",
       "      <td>False</td>\n",
       "    </tr>\n",
       "    <tr>\n",
       "      <th>207</th>\n",
       "      <td>False</td>\n",
       "      <td>False</td>\n",
       "      <td>False</td>\n",
       "      <td>False</td>\n",
       "      <td>False</td>\n",
       "      <td>False</td>\n",
       "      <td>False</td>\n",
       "      <td>False</td>\n",
       "      <td>False</td>\n",
       "      <td>False</td>\n",
       "      <td>...</td>\n",
       "      <td>False</td>\n",
       "      <td>False</td>\n",
       "      <td>False</td>\n",
       "      <td>False</td>\n",
       "      <td>False</td>\n",
       "      <td>False</td>\n",
       "      <td>False</td>\n",
       "      <td>False</td>\n",
       "      <td>False</td>\n",
       "      <td>False</td>\n",
       "    </tr>\n",
       "  </tbody>\n",
       "</table>\n",
       "<p>208 rows × 29 columns</p>\n",
       "</div>"
      ],
      "text/plain": [
       "     Sr. No/ID  Colony  Phasees  Block   Zone  Size in Marla   Side  \\\n",
       "0        False   False    False  False  False          False  False   \n",
       "1        False   False    False  False  False          False  False   \n",
       "2        False   False    False  False  False          False  False   \n",
       "3        False   False    False  False  False          False  False   \n",
       "4        False   False    False  False  False          False  False   \n",
       "..         ...     ...      ...    ...    ...            ...    ...   \n",
       "203      False   False    False  False  False          False  False   \n",
       "204      False   False    False  False  False          False  False   \n",
       "205      False   False    False  False  False          False  False   \n",
       "206      False   False    False  False  False          False  False   \n",
       "207      False   False    False  False  False          False  False   \n",
       "\n",
       "     Park Facing  Market Facing  Near Mosque  ...  new_Zone  new_marla  \\\n",
       "0          False          False        False  ...     False      False   \n",
       "1          False          False        False  ...     False      False   \n",
       "2          False          False        False  ...     False      False   \n",
       "3          False          False        False  ...     False      False   \n",
       "4          False          False        False  ...     False      False   \n",
       "..           ...            ...          ...  ...       ...        ...   \n",
       "203        False          False        False  ...     False      False   \n",
       "204        False          False        False  ...     False      False   \n",
       "205        False          False        False  ...     False      False   \n",
       "206        False          False        False  ...     False      False   \n",
       "207        False          False        False  ...     False      False   \n",
       "\n",
       "     new_Side  new_Park Facing  new_market  new_Near Mosque  new_Near School  \\\n",
       "0       False            False       False            False            False   \n",
       "1       False            False       False            False            False   \n",
       "2       False            False       False            False            False   \n",
       "3       False            False       False            False            False   \n",
       "4       False            False       False            False            False   \n",
       "..        ...              ...         ...              ...              ...   \n",
       "203     False            False       False            False            False   \n",
       "204     False            False       False            False            False   \n",
       "205     False            False       False            False            False   \n",
       "206     False            False       False            False            False   \n",
       "207     False            False       False            False            False   \n",
       "\n",
       "     new_Electricity  new_Natural Gas  new_WASA  \n",
       "0              False            False     False  \n",
       "1              False            False     False  \n",
       "2              False            False     False  \n",
       "3              False            False     False  \n",
       "4              False            False     False  \n",
       "..               ...              ...       ...  \n",
       "203            False            False     False  \n",
       "204            False            False     False  \n",
       "205            False            False     False  \n",
       "206            False            False     False  \n",
       "207            False            False     False  \n",
       "\n",
       "[208 rows x 29 columns]"
      ]
     },
     "execution_count": 12,
     "metadata": {},
     "output_type": "execute_result"
    }
   ],
   "source": [
    "df.isna()"
   ]
  },
  {
   "cell_type": "code",
   "execution_count": 13,
   "metadata": {},
   "outputs": [
    {
     "data": {
      "text/html": [
       "<div>\n",
       "<style scoped>\n",
       "    .dataframe tbody tr th:only-of-type {\n",
       "        vertical-align: middle;\n",
       "    }\n",
       "\n",
       "    .dataframe tbody tr th {\n",
       "        vertical-align: top;\n",
       "    }\n",
       "\n",
       "    .dataframe thead th {\n",
       "        text-align: right;\n",
       "    }\n",
       "</style>\n",
       "<table border=\"1\" class=\"dataframe\">\n",
       "  <thead>\n",
       "    <tr style=\"text-align: right;\">\n",
       "      <th></th>\n",
       "      <th>Sr. No/ID</th>\n",
       "      <th>Colony</th>\n",
       "      <th>Phasees</th>\n",
       "      <th>Block</th>\n",
       "      <th>Zone</th>\n",
       "      <th>Size in Marla</th>\n",
       "      <th>Side</th>\n",
       "      <th>Park Facing</th>\n",
       "      <th>Market Facing</th>\n",
       "      <th>Near Mosque</th>\n",
       "      <th>...</th>\n",
       "      <th>new_Zone</th>\n",
       "      <th>new_marla</th>\n",
       "      <th>new_Side</th>\n",
       "      <th>new_Park Facing</th>\n",
       "      <th>new_market</th>\n",
       "      <th>new_Near Mosque</th>\n",
       "      <th>new_Near School</th>\n",
       "      <th>new_Electricity</th>\n",
       "      <th>new_Natural Gas</th>\n",
       "      <th>new_WASA</th>\n",
       "    </tr>\n",
       "  </thead>\n",
       "  <tbody>\n",
       "    <tr>\n",
       "      <th>0</th>\n",
       "      <td>False</td>\n",
       "      <td>False</td>\n",
       "      <td>False</td>\n",
       "      <td>False</td>\n",
       "      <td>False</td>\n",
       "      <td>False</td>\n",
       "      <td>False</td>\n",
       "      <td>False</td>\n",
       "      <td>False</td>\n",
       "      <td>False</td>\n",
       "      <td>...</td>\n",
       "      <td>False</td>\n",
       "      <td>False</td>\n",
       "      <td>False</td>\n",
       "      <td>False</td>\n",
       "      <td>False</td>\n",
       "      <td>False</td>\n",
       "      <td>False</td>\n",
       "      <td>False</td>\n",
       "      <td>False</td>\n",
       "      <td>False</td>\n",
       "    </tr>\n",
       "    <tr>\n",
       "      <th>1</th>\n",
       "      <td>False</td>\n",
       "      <td>False</td>\n",
       "      <td>False</td>\n",
       "      <td>False</td>\n",
       "      <td>False</td>\n",
       "      <td>False</td>\n",
       "      <td>False</td>\n",
       "      <td>False</td>\n",
       "      <td>False</td>\n",
       "      <td>False</td>\n",
       "      <td>...</td>\n",
       "      <td>False</td>\n",
       "      <td>False</td>\n",
       "      <td>False</td>\n",
       "      <td>False</td>\n",
       "      <td>False</td>\n",
       "      <td>False</td>\n",
       "      <td>False</td>\n",
       "      <td>False</td>\n",
       "      <td>False</td>\n",
       "      <td>False</td>\n",
       "    </tr>\n",
       "    <tr>\n",
       "      <th>2</th>\n",
       "      <td>False</td>\n",
       "      <td>False</td>\n",
       "      <td>False</td>\n",
       "      <td>False</td>\n",
       "      <td>False</td>\n",
       "      <td>False</td>\n",
       "      <td>False</td>\n",
       "      <td>False</td>\n",
       "      <td>False</td>\n",
       "      <td>False</td>\n",
       "      <td>...</td>\n",
       "      <td>False</td>\n",
       "      <td>False</td>\n",
       "      <td>False</td>\n",
       "      <td>False</td>\n",
       "      <td>False</td>\n",
       "      <td>False</td>\n",
       "      <td>False</td>\n",
       "      <td>False</td>\n",
       "      <td>False</td>\n",
       "      <td>False</td>\n",
       "    </tr>\n",
       "    <tr>\n",
       "      <th>3</th>\n",
       "      <td>False</td>\n",
       "      <td>False</td>\n",
       "      <td>False</td>\n",
       "      <td>False</td>\n",
       "      <td>False</td>\n",
       "      <td>False</td>\n",
       "      <td>False</td>\n",
       "      <td>False</td>\n",
       "      <td>False</td>\n",
       "      <td>False</td>\n",
       "      <td>...</td>\n",
       "      <td>False</td>\n",
       "      <td>False</td>\n",
       "      <td>False</td>\n",
       "      <td>False</td>\n",
       "      <td>False</td>\n",
       "      <td>False</td>\n",
       "      <td>False</td>\n",
       "      <td>False</td>\n",
       "      <td>False</td>\n",
       "      <td>False</td>\n",
       "    </tr>\n",
       "    <tr>\n",
       "      <th>4</th>\n",
       "      <td>False</td>\n",
       "      <td>False</td>\n",
       "      <td>False</td>\n",
       "      <td>False</td>\n",
       "      <td>False</td>\n",
       "      <td>False</td>\n",
       "      <td>False</td>\n",
       "      <td>False</td>\n",
       "      <td>False</td>\n",
       "      <td>False</td>\n",
       "      <td>...</td>\n",
       "      <td>False</td>\n",
       "      <td>False</td>\n",
       "      <td>False</td>\n",
       "      <td>False</td>\n",
       "      <td>False</td>\n",
       "      <td>False</td>\n",
       "      <td>False</td>\n",
       "      <td>False</td>\n",
       "      <td>False</td>\n",
       "      <td>False</td>\n",
       "    </tr>\n",
       "    <tr>\n",
       "      <th>...</th>\n",
       "      <td>...</td>\n",
       "      <td>...</td>\n",
       "      <td>...</td>\n",
       "      <td>...</td>\n",
       "      <td>...</td>\n",
       "      <td>...</td>\n",
       "      <td>...</td>\n",
       "      <td>...</td>\n",
       "      <td>...</td>\n",
       "      <td>...</td>\n",
       "      <td>...</td>\n",
       "      <td>...</td>\n",
       "      <td>...</td>\n",
       "      <td>...</td>\n",
       "      <td>...</td>\n",
       "      <td>...</td>\n",
       "      <td>...</td>\n",
       "      <td>...</td>\n",
       "      <td>...</td>\n",
       "      <td>...</td>\n",
       "      <td>...</td>\n",
       "    </tr>\n",
       "    <tr>\n",
       "      <th>203</th>\n",
       "      <td>False</td>\n",
       "      <td>False</td>\n",
       "      <td>False</td>\n",
       "      <td>False</td>\n",
       "      <td>False</td>\n",
       "      <td>False</td>\n",
       "      <td>False</td>\n",
       "      <td>False</td>\n",
       "      <td>False</td>\n",
       "      <td>False</td>\n",
       "      <td>...</td>\n",
       "      <td>False</td>\n",
       "      <td>False</td>\n",
       "      <td>False</td>\n",
       "      <td>False</td>\n",
       "      <td>False</td>\n",
       "      <td>False</td>\n",
       "      <td>False</td>\n",
       "      <td>False</td>\n",
       "      <td>False</td>\n",
       "      <td>False</td>\n",
       "    </tr>\n",
       "    <tr>\n",
       "      <th>204</th>\n",
       "      <td>False</td>\n",
       "      <td>False</td>\n",
       "      <td>False</td>\n",
       "      <td>False</td>\n",
       "      <td>False</td>\n",
       "      <td>False</td>\n",
       "      <td>False</td>\n",
       "      <td>False</td>\n",
       "      <td>False</td>\n",
       "      <td>False</td>\n",
       "      <td>...</td>\n",
       "      <td>False</td>\n",
       "      <td>False</td>\n",
       "      <td>False</td>\n",
       "      <td>False</td>\n",
       "      <td>False</td>\n",
       "      <td>False</td>\n",
       "      <td>False</td>\n",
       "      <td>False</td>\n",
       "      <td>False</td>\n",
       "      <td>False</td>\n",
       "    </tr>\n",
       "    <tr>\n",
       "      <th>205</th>\n",
       "      <td>False</td>\n",
       "      <td>False</td>\n",
       "      <td>False</td>\n",
       "      <td>False</td>\n",
       "      <td>False</td>\n",
       "      <td>False</td>\n",
       "      <td>False</td>\n",
       "      <td>False</td>\n",
       "      <td>False</td>\n",
       "      <td>False</td>\n",
       "      <td>...</td>\n",
       "      <td>False</td>\n",
       "      <td>False</td>\n",
       "      <td>False</td>\n",
       "      <td>False</td>\n",
       "      <td>False</td>\n",
       "      <td>False</td>\n",
       "      <td>False</td>\n",
       "      <td>False</td>\n",
       "      <td>False</td>\n",
       "      <td>False</td>\n",
       "    </tr>\n",
       "    <tr>\n",
       "      <th>206</th>\n",
       "      <td>False</td>\n",
       "      <td>False</td>\n",
       "      <td>False</td>\n",
       "      <td>False</td>\n",
       "      <td>False</td>\n",
       "      <td>False</td>\n",
       "      <td>False</td>\n",
       "      <td>False</td>\n",
       "      <td>False</td>\n",
       "      <td>False</td>\n",
       "      <td>...</td>\n",
       "      <td>False</td>\n",
       "      <td>False</td>\n",
       "      <td>False</td>\n",
       "      <td>False</td>\n",
       "      <td>False</td>\n",
       "      <td>False</td>\n",
       "      <td>False</td>\n",
       "      <td>False</td>\n",
       "      <td>False</td>\n",
       "      <td>False</td>\n",
       "    </tr>\n",
       "    <tr>\n",
       "      <th>207</th>\n",
       "      <td>False</td>\n",
       "      <td>False</td>\n",
       "      <td>False</td>\n",
       "      <td>False</td>\n",
       "      <td>False</td>\n",
       "      <td>False</td>\n",
       "      <td>False</td>\n",
       "      <td>False</td>\n",
       "      <td>False</td>\n",
       "      <td>False</td>\n",
       "      <td>...</td>\n",
       "      <td>False</td>\n",
       "      <td>False</td>\n",
       "      <td>False</td>\n",
       "      <td>False</td>\n",
       "      <td>False</td>\n",
       "      <td>False</td>\n",
       "      <td>False</td>\n",
       "      <td>False</td>\n",
       "      <td>False</td>\n",
       "      <td>False</td>\n",
       "    </tr>\n",
       "  </tbody>\n",
       "</table>\n",
       "<p>208 rows × 29 columns</p>\n",
       "</div>"
      ],
      "text/plain": [
       "     Sr. No/ID  Colony  Phasees  Block   Zone  Size in Marla   Side  \\\n",
       "0        False   False    False  False  False          False  False   \n",
       "1        False   False    False  False  False          False  False   \n",
       "2        False   False    False  False  False          False  False   \n",
       "3        False   False    False  False  False          False  False   \n",
       "4        False   False    False  False  False          False  False   \n",
       "..         ...     ...      ...    ...    ...            ...    ...   \n",
       "203      False   False    False  False  False          False  False   \n",
       "204      False   False    False  False  False          False  False   \n",
       "205      False   False    False  False  False          False  False   \n",
       "206      False   False    False  False  False          False  False   \n",
       "207      False   False    False  False  False          False  False   \n",
       "\n",
       "     Park Facing  Market Facing  Near Mosque  ...  new_Zone  new_marla  \\\n",
       "0          False          False        False  ...     False      False   \n",
       "1          False          False        False  ...     False      False   \n",
       "2          False          False        False  ...     False      False   \n",
       "3          False          False        False  ...     False      False   \n",
       "4          False          False        False  ...     False      False   \n",
       "..           ...            ...          ...  ...       ...        ...   \n",
       "203        False          False        False  ...     False      False   \n",
       "204        False          False        False  ...     False      False   \n",
       "205        False          False        False  ...     False      False   \n",
       "206        False          False        False  ...     False      False   \n",
       "207        False          False        False  ...     False      False   \n",
       "\n",
       "     new_Side  new_Park Facing  new_market  new_Near Mosque  new_Near School  \\\n",
       "0       False            False       False            False            False   \n",
       "1       False            False       False            False            False   \n",
       "2       False            False       False            False            False   \n",
       "3       False            False       False            False            False   \n",
       "4       False            False       False            False            False   \n",
       "..        ...              ...         ...              ...              ...   \n",
       "203     False            False       False            False            False   \n",
       "204     False            False       False            False            False   \n",
       "205     False            False       False            False            False   \n",
       "206     False            False       False            False            False   \n",
       "207     False            False       False            False            False   \n",
       "\n",
       "     new_Electricity  new_Natural Gas  new_WASA  \n",
       "0              False            False     False  \n",
       "1              False            False     False  \n",
       "2              False            False     False  \n",
       "3              False            False     False  \n",
       "4              False            False     False  \n",
       "..               ...              ...       ...  \n",
       "203            False            False     False  \n",
       "204            False            False     False  \n",
       "205            False            False     False  \n",
       "206            False            False     False  \n",
       "207            False            False     False  \n",
       "\n",
       "[208 rows x 29 columns]"
      ]
     },
     "execution_count": 13,
     "metadata": {},
     "output_type": "execute_result"
    }
   ],
   "source": [
    "df.isnull()"
   ]
  },
  {
   "cell_type": "code",
   "execution_count": 14,
   "metadata": {},
   "outputs": [
    {
     "data": {
      "text/plain": [
       "Sr. No/ID          0\n",
       "Colony             0\n",
       "Phasees            0\n",
       "Block              0\n",
       "Zone               0\n",
       "Size in Marla      0\n",
       "Side               0\n",
       "Park Facing        0\n",
       "Market Facing      0\n",
       "Near Mosque        0\n",
       "Near School        0\n",
       "Electricity        0\n",
       "Natural Gas        0\n",
       "WASA               0\n",
       "Pricees            0\n",
       "Colony_new         0\n",
       "new_Colony         0\n",
       "new_Phase          0\n",
       "new_Block          0\n",
       "new_Zone           0\n",
       "new_marla          0\n",
       "new_Side           0\n",
       "new_Park Facing    0\n",
       "new_market         0\n",
       "new_Near Mosque    0\n",
       "new_Near School    0\n",
       "new_Electricity    0\n",
       "new_Natural Gas    0\n",
       "new_WASA           0\n",
       "dtype: int64"
      ]
     },
     "execution_count": 14,
     "metadata": {},
     "output_type": "execute_result"
    }
   ],
   "source": [
    "df.isnull().sum()"
   ]
  },
  {
   "cell_type": "code",
   "execution_count": 15,
   "metadata": {},
   "outputs": [
    {
     "data": {
      "text/plain": [
       "Sr. No/ID          False\n",
       "Colony             False\n",
       "Phasees            False\n",
       "Block              False\n",
       "Zone               False\n",
       "Size in Marla      False\n",
       "Side               False\n",
       "Park Facing        False\n",
       "Market Facing      False\n",
       "Near Mosque        False\n",
       "Near School        False\n",
       "Electricity        False\n",
       "Natural Gas        False\n",
       "WASA               False\n",
       "Pricees            False\n",
       "Colony_new         False\n",
       "new_Colony         False\n",
       "new_Phase          False\n",
       "new_Block          False\n",
       "new_Zone           False\n",
       "new_marla          False\n",
       "new_Side           False\n",
       "new_Park Facing    False\n",
       "new_market         False\n",
       "new_Near Mosque    False\n",
       "new_Near School    False\n",
       "new_Electricity    False\n",
       "new_Natural Gas    False\n",
       "new_WASA           False\n",
       "dtype: bool"
      ]
     },
     "execution_count": 15,
     "metadata": {},
     "output_type": "execute_result"
    }
   ],
   "source": [
    "df.isna().any()"
   ]
  },
  {
   "cell_type": "code",
   "execution_count": 16,
   "metadata": {},
   "outputs": [
    {
     "data": {
      "text/html": [
       "<div>\n",
       "<style scoped>\n",
       "    .dataframe tbody tr th:only-of-type {\n",
       "        vertical-align: middle;\n",
       "    }\n",
       "\n",
       "    .dataframe tbody tr th {\n",
       "        vertical-align: top;\n",
       "    }\n",
       "\n",
       "    .dataframe thead th {\n",
       "        text-align: right;\n",
       "    }\n",
       "</style>\n",
       "<table border=\"1\" class=\"dataframe\">\n",
       "  <thead>\n",
       "    <tr style=\"text-align: right;\">\n",
       "      <th></th>\n",
       "      <th>Sr. No/ID</th>\n",
       "      <th>Phasees</th>\n",
       "      <th>Block</th>\n",
       "      <th>Zone</th>\n",
       "      <th>Size in Marla</th>\n",
       "      <th>Side</th>\n",
       "      <th>Park Facing</th>\n",
       "      <th>Market Facing</th>\n",
       "      <th>Near Mosque</th>\n",
       "      <th>Near School</th>\n",
       "      <th>...</th>\n",
       "      <th>new_Zone</th>\n",
       "      <th>new_marla</th>\n",
       "      <th>new_Side</th>\n",
       "      <th>new_Park Facing</th>\n",
       "      <th>new_market</th>\n",
       "      <th>new_Near Mosque</th>\n",
       "      <th>new_Near School</th>\n",
       "      <th>new_Electricity</th>\n",
       "      <th>new_Natural Gas</th>\n",
       "      <th>new_WASA</th>\n",
       "    </tr>\n",
       "  </thead>\n",
       "  <tbody>\n",
       "    <tr>\n",
       "      <th>count</th>\n",
       "      <td>208.000000</td>\n",
       "      <td>208.0</td>\n",
       "      <td>208.000000</td>\n",
       "      <td>208.000000</td>\n",
       "      <td>208.000000</td>\n",
       "      <td>208.000000</td>\n",
       "      <td>208.000000</td>\n",
       "      <td>208.000000</td>\n",
       "      <td>208.000000</td>\n",
       "      <td>208.000000</td>\n",
       "      <td>...</td>\n",
       "      <td>208.000000</td>\n",
       "      <td>208.000000</td>\n",
       "      <td>208.000000</td>\n",
       "      <td>208.000000</td>\n",
       "      <td>208.000000</td>\n",
       "      <td>208.000000</td>\n",
       "      <td>208.000000</td>\n",
       "      <td>208.0</td>\n",
       "      <td>208.000000</td>\n",
       "      <td>208.0</td>\n",
       "    </tr>\n",
       "    <tr>\n",
       "      <th>mean</th>\n",
       "      <td>104.500000</td>\n",
       "      <td>1.0</td>\n",
       "      <td>1.480769</td>\n",
       "      <td>1.105769</td>\n",
       "      <td>11.875481</td>\n",
       "      <td>0.442308</td>\n",
       "      <td>0.322115</td>\n",
       "      <td>0.086538</td>\n",
       "      <td>0.187500</td>\n",
       "      <td>0.033654</td>\n",
       "      <td>...</td>\n",
       "      <td>0.105769</td>\n",
       "      <td>0.239878</td>\n",
       "      <td>0.442308</td>\n",
       "      <td>0.322115</td>\n",
       "      <td>0.086538</td>\n",
       "      <td>0.187500</td>\n",
       "      <td>0.033654</td>\n",
       "      <td>0.0</td>\n",
       "      <td>0.697115</td>\n",
       "      <td>0.0</td>\n",
       "    </tr>\n",
       "    <tr>\n",
       "      <th>std</th>\n",
       "      <td>60.188592</td>\n",
       "      <td>0.0</td>\n",
       "      <td>1.094393</td>\n",
       "      <td>0.308284</td>\n",
       "      <td>8.010381</td>\n",
       "      <td>0.497859</td>\n",
       "      <td>0.468414</td>\n",
       "      <td>0.281836</td>\n",
       "      <td>0.391254</td>\n",
       "      <td>0.180772</td>\n",
       "      <td>...</td>\n",
       "      <td>0.308284</td>\n",
       "      <td>0.216497</td>\n",
       "      <td>0.497859</td>\n",
       "      <td>0.468414</td>\n",
       "      <td>0.281836</td>\n",
       "      <td>0.391254</td>\n",
       "      <td>0.180772</td>\n",
       "      <td>0.0</td>\n",
       "      <td>0.460614</td>\n",
       "      <td>0.0</td>\n",
       "    </tr>\n",
       "    <tr>\n",
       "      <th>min</th>\n",
       "      <td>1.000000</td>\n",
       "      <td>1.0</td>\n",
       "      <td>1.000000</td>\n",
       "      <td>1.000000</td>\n",
       "      <td>3.000000</td>\n",
       "      <td>0.000000</td>\n",
       "      <td>0.000000</td>\n",
       "      <td>0.000000</td>\n",
       "      <td>0.000000</td>\n",
       "      <td>0.000000</td>\n",
       "      <td>...</td>\n",
       "      <td>0.000000</td>\n",
       "      <td>0.000000</td>\n",
       "      <td>0.000000</td>\n",
       "      <td>0.000000</td>\n",
       "      <td>0.000000</td>\n",
       "      <td>0.000000</td>\n",
       "      <td>0.000000</td>\n",
       "      <td>0.0</td>\n",
       "      <td>0.000000</td>\n",
       "      <td>0.0</td>\n",
       "    </tr>\n",
       "    <tr>\n",
       "      <th>25%</th>\n",
       "      <td>52.750000</td>\n",
       "      <td>1.0</td>\n",
       "      <td>1.000000</td>\n",
       "      <td>1.000000</td>\n",
       "      <td>6.000000</td>\n",
       "      <td>0.000000</td>\n",
       "      <td>0.000000</td>\n",
       "      <td>0.000000</td>\n",
       "      <td>0.000000</td>\n",
       "      <td>0.000000</td>\n",
       "      <td>...</td>\n",
       "      <td>0.000000</td>\n",
       "      <td>0.081081</td>\n",
       "      <td>0.000000</td>\n",
       "      <td>0.000000</td>\n",
       "      <td>0.000000</td>\n",
       "      <td>0.000000</td>\n",
       "      <td>0.000000</td>\n",
       "      <td>0.0</td>\n",
       "      <td>0.000000</td>\n",
       "      <td>0.0</td>\n",
       "    </tr>\n",
       "    <tr>\n",
       "      <th>50%</th>\n",
       "      <td>104.500000</td>\n",
       "      <td>1.0</td>\n",
       "      <td>1.000000</td>\n",
       "      <td>1.000000</td>\n",
       "      <td>10.000000</td>\n",
       "      <td>0.000000</td>\n",
       "      <td>0.000000</td>\n",
       "      <td>0.000000</td>\n",
       "      <td>0.000000</td>\n",
       "      <td>0.000000</td>\n",
       "      <td>...</td>\n",
       "      <td>0.000000</td>\n",
       "      <td>0.189189</td>\n",
       "      <td>0.000000</td>\n",
       "      <td>0.000000</td>\n",
       "      <td>0.000000</td>\n",
       "      <td>0.000000</td>\n",
       "      <td>0.000000</td>\n",
       "      <td>0.0</td>\n",
       "      <td>1.000000</td>\n",
       "      <td>0.0</td>\n",
       "    </tr>\n",
       "    <tr>\n",
       "      <th>75%</th>\n",
       "      <td>156.250000</td>\n",
       "      <td>1.0</td>\n",
       "      <td>1.000000</td>\n",
       "      <td>1.000000</td>\n",
       "      <td>15.000000</td>\n",
       "      <td>1.000000</td>\n",
       "      <td>1.000000</td>\n",
       "      <td>0.000000</td>\n",
       "      <td>0.000000</td>\n",
       "      <td>0.000000</td>\n",
       "      <td>...</td>\n",
       "      <td>0.000000</td>\n",
       "      <td>0.324324</td>\n",
       "      <td>1.000000</td>\n",
       "      <td>1.000000</td>\n",
       "      <td>0.000000</td>\n",
       "      <td>0.000000</td>\n",
       "      <td>0.000000</td>\n",
       "      <td>0.0</td>\n",
       "      <td>1.000000</td>\n",
       "      <td>0.0</td>\n",
       "    </tr>\n",
       "    <tr>\n",
       "      <th>max</th>\n",
       "      <td>208.000000</td>\n",
       "      <td>1.0</td>\n",
       "      <td>6.000000</td>\n",
       "      <td>2.000000</td>\n",
       "      <td>40.000000</td>\n",
       "      <td>1.000000</td>\n",
       "      <td>1.000000</td>\n",
       "      <td>1.000000</td>\n",
       "      <td>1.000000</td>\n",
       "      <td>1.000000</td>\n",
       "      <td>...</td>\n",
       "      <td>1.000000</td>\n",
       "      <td>1.000000</td>\n",
       "      <td>1.000000</td>\n",
       "      <td>1.000000</td>\n",
       "      <td>1.000000</td>\n",
       "      <td>1.000000</td>\n",
       "      <td>1.000000</td>\n",
       "      <td>0.0</td>\n",
       "      <td>1.000000</td>\n",
       "      <td>0.0</td>\n",
       "    </tr>\n",
       "  </tbody>\n",
       "</table>\n",
       "<p>8 rows × 28 columns</p>\n",
       "</div>"
      ],
      "text/plain": [
       "        Sr. No/ID  Phasees       Block        Zone  Size in Marla        Side  \\\n",
       "count  208.000000    208.0  208.000000  208.000000     208.000000  208.000000   \n",
       "mean   104.500000      1.0    1.480769    1.105769      11.875481    0.442308   \n",
       "std     60.188592      0.0    1.094393    0.308284       8.010381    0.497859   \n",
       "min      1.000000      1.0    1.000000    1.000000       3.000000    0.000000   \n",
       "25%     52.750000      1.0    1.000000    1.000000       6.000000    0.000000   \n",
       "50%    104.500000      1.0    1.000000    1.000000      10.000000    0.000000   \n",
       "75%    156.250000      1.0    1.000000    1.000000      15.000000    1.000000   \n",
       "max    208.000000      1.0    6.000000    2.000000      40.000000    1.000000   \n",
       "\n",
       "       Park Facing  Market Facing  Near Mosque  Near School  ...    new_Zone  \\\n",
       "count   208.000000     208.000000   208.000000   208.000000  ...  208.000000   \n",
       "mean      0.322115       0.086538     0.187500     0.033654  ...    0.105769   \n",
       "std       0.468414       0.281836     0.391254     0.180772  ...    0.308284   \n",
       "min       0.000000       0.000000     0.000000     0.000000  ...    0.000000   \n",
       "25%       0.000000       0.000000     0.000000     0.000000  ...    0.000000   \n",
       "50%       0.000000       0.000000     0.000000     0.000000  ...    0.000000   \n",
       "75%       1.000000       0.000000     0.000000     0.000000  ...    0.000000   \n",
       "max       1.000000       1.000000     1.000000     1.000000  ...    1.000000   \n",
       "\n",
       "        new_marla    new_Side  new_Park Facing  new_market  new_Near Mosque  \\\n",
       "count  208.000000  208.000000       208.000000  208.000000       208.000000   \n",
       "mean     0.239878    0.442308         0.322115    0.086538         0.187500   \n",
       "std      0.216497    0.497859         0.468414    0.281836         0.391254   \n",
       "min      0.000000    0.000000         0.000000    0.000000         0.000000   \n",
       "25%      0.081081    0.000000         0.000000    0.000000         0.000000   \n",
       "50%      0.189189    0.000000         0.000000    0.000000         0.000000   \n",
       "75%      0.324324    1.000000         1.000000    0.000000         0.000000   \n",
       "max      1.000000    1.000000         1.000000    1.000000         1.000000   \n",
       "\n",
       "       new_Near School  new_Electricity  new_Natural Gas  new_WASA  \n",
       "count       208.000000            208.0       208.000000     208.0  \n",
       "mean          0.033654              0.0         0.697115       0.0  \n",
       "std           0.180772              0.0         0.460614       0.0  \n",
       "min           0.000000              0.0         0.000000       0.0  \n",
       "25%           0.000000              0.0         0.000000       0.0  \n",
       "50%           0.000000              0.0         1.000000       0.0  \n",
       "75%           0.000000              0.0         1.000000       0.0  \n",
       "max           1.000000              0.0         1.000000       0.0  \n",
       "\n",
       "[8 rows x 28 columns]"
      ]
     },
     "execution_count": 16,
     "metadata": {},
     "output_type": "execute_result"
    }
   ],
   "source": [
    "#description of dataset\n",
    "df.describe()"
   ]
  },
  {
   "cell_type": "code",
   "execution_count": 17,
   "metadata": {},
   "outputs": [
    {
     "data": {
      "text/plain": [
       "Index(['Sr. No/ID', 'Colony', 'Phasees', 'Block', 'Zone', 'Size in Marla',\n",
       "       'Side', 'Park Facing', 'Market Facing', 'Near Mosque', 'Near School',\n",
       "       'Electricity', 'Natural Gas', 'WASA', 'Pricees', 'Colony_new',\n",
       "       'new_Colony', 'new_Phase', 'new_Block', 'new_Zone', 'new_marla',\n",
       "       'new_Side', 'new_Park Facing', 'new_market', 'new_Near Mosque',\n",
       "       'new_Near School', 'new_Electricity', 'new_Natural Gas', 'new_WASA'],\n",
       "      dtype='object')"
      ]
     },
     "execution_count": 17,
     "metadata": {},
     "output_type": "execute_result"
    }
   ],
   "source": [
    "df.columns"
   ]
  },
  {
   "cell_type": "code",
   "execution_count": 18,
   "metadata": {},
   "outputs": [
    {
     "data": {
      "text/plain": [
       "<matplotlib.axes._subplots.AxesSubplot at 0x193ae69c208>"
      ]
     },
     "execution_count": 18,
     "metadata": {},
     "output_type": "execute_result"
    },
    {
     "data": {
      "image/png": "[encoded data removed]",
      "text/plain": [
       "<Figure size 432x288 with 1 Axes>"
      ]
     },
     "metadata": {
      "needs_background": "light"
     },
     "output_type": "display_data"
    }
   ],
   "source": [
    "#use seaborn library to visualize the attribute price\n",
    "sns.distplot(df['Pricees'])"
   ]
  },
  {
   "cell_type": "code",
   "execution_count": 19,
   "metadata": {},
   "outputs": [
    {
     "data": {
      "text/plain": [
       "<matplotlib.axes._subplots.AxesSubplot at 0x193aee498c8>"
      ]
     },
     "execution_count": 19,
     "metadata": {},
     "output_type": "execute_result"
    },
    {
     "data": {
      "image/png": "[encoded data removed]",
      "text/plain": [
       "<Figure size 432x288 with 2 Axes>"
      ]
     },
     "metadata": {
      "needs_background": "light"
     },
     "output_type": "display_data"
    }
   ],
   "source": [
    "sns.heatmap(df[[ \"new_Colony\", \"new_Phase\", \"new_Block\", \"new_Zone\", \"new_marla\",\n",
    "       \"new_Side\", \"new_Park Facing\", \"new_market\", \"new_Near Mosque\",\n",
    "       \"new_Near School\", \"new_Electricity\", \"new_Natural Gas\", \"new_WASA\",\"Pricees\"]].corr(),annot = True)\n",
    "\n",
    "#this corr map is used to find the correlation between the attributes and the pricing so as to \n",
    "#get an idea about the relationship between them."
   ]
  },
  {
   "cell_type": "code",
   "execution_count": 20,
   "metadata": {
    "scrolled": true
   },
   "outputs": [
    {
     "data": {
      "text/plain": [
       "Index(['Sr. No/ID', 'Colony', 'Phasees', 'Block', 'Zone', 'Size in Marla',\n",
       "       'Side', 'Park Facing', 'Market Facing', 'Near Mosque', 'Near School',\n",
       "       'Electricity', 'Natural Gas', 'WASA', 'Pricees', 'Colony_new',\n",
       "       'new_Colony', 'new_Phase', 'new_Block', 'new_Zone', 'new_marla',\n",
       "       'new_Side', 'new_Park Facing', 'new_market', 'new_Near Mosque',\n",
       "       'new_Near School', 'new_Electricity', 'new_Natural Gas', 'new_WASA'],\n",
       "      dtype='object')"
      ]
     },
     "execution_count": 20,
     "metadata": {},
     "output_type": "execute_result"
    }
   ],
   "source": [
    "df.columns "
   ]
  },
  {
   "cell_type": "code",
   "execution_count": 21,
   "metadata": {},
   "outputs": [
    {
     "name": "stdout",
     "output_type": "stream",
     "text": [
      "     new_Colony  new_Phase  new_Block  new_Zone  new_marla  new_Side  \\\n",
      "0           0.0        0.0        0.0       0.0   0.054054       0.0   \n",
      "1           0.0        0.0        0.0       0.0   0.054054       0.0   \n",
      "2           0.0        0.0        0.0       1.0   0.054054       0.0   \n",
      "3           0.0        0.0        0.0       1.0   0.054054       0.0   \n",
      "4           0.0        0.0        0.0       0.0   0.054054       1.0   \n",
      "..          ...        ...        ...       ...        ...       ...   \n",
      "203         1.0        0.0        0.0       0.0   0.324324       1.0   \n",
      "204         1.0        0.0        0.0       0.0   0.459459       0.0   \n",
      "205         1.0        0.0        0.0       0.0   0.459459       1.0   \n",
      "206         1.0        0.0        0.0       0.0   0.459459       0.0   \n",
      "207         1.0        0.0        0.0       0.0   0.459459       1.0   \n",
      "\n",
      "     new_Park Facing  new_market  new_Near Mosque  new_Near School  \\\n",
      "0                0.0         0.0              0.0              0.0   \n",
      "1                1.0         0.0              0.0              0.0   \n",
      "2                1.0         1.0              0.0              0.0   \n",
      "3                1.0         1.0              1.0              0.0   \n",
      "4                0.0         0.0              0.0              0.0   \n",
      "..               ...         ...              ...              ...   \n",
      "203              0.0         0.0              0.0              0.0   \n",
      "204              0.0         0.0              0.0              0.0   \n",
      "205              0.0         0.0              0.0              0.0   \n",
      "206              1.0         0.0              0.0              0.0   \n",
      "207              1.0         0.0              0.0              0.0   \n",
      "\n",
      "     new_Electricity  new_Natural Gas  new_WASA  \n",
      "0                0.0              1.0       0.0  \n",
      "1                0.0              1.0       0.0  \n",
      "2                0.0              1.0       0.0  \n",
      "3                0.0              1.0       0.0  \n",
      "4                0.0              1.0       0.0  \n",
      "..               ...              ...       ...  \n",
      "203              0.0              1.0       0.0  \n",
      "204              0.0              1.0       0.0  \n",
      "205              0.0              1.0       0.0  \n",
      "206              0.0              1.0       0.0  \n",
      "207              0.0              1.0       0.0  \n",
      "\n",
      "[208 rows x 13 columns]\n"
     ]
    }
   ],
   "source": [
    "x = df.iloc[:,16:]\n",
    "print(x)\n",
    "\n",
    "#separate the other attributes from the predicting attribute"
   ]
  },
  {
   "cell_type": "code",
   "execution_count": 22,
   "metadata": {},
   "outputs": [
    {
     "name": "stdout",
     "output_type": "stream",
     "text": [
      "0      25.0\n",
      "1      25.0\n",
      "2      27.5\n",
      "3      27.5\n",
      "4      25.0\n",
      "       ... \n",
      "203    45.0\n",
      "204    40.0\n",
      "205    40.0\n",
      "206    40.0\n",
      "207    40.0\n",
      "Name: Pricees, Length: 208, dtype: float64\n"
     ]
    }
   ],
   "source": [
    "y = df.iloc[:,14]\n",
    "print(y)\n",
    "#separte the predicting attribute into Y for model training "
   ]
  },
  {
   "cell_type": "code",
   "execution_count": 23,
   "metadata": {},
   "outputs": [],
   "source": [
    "#import model selection train test split for splitting the data into test and train for \n",
    "#model validation.\n",
    "\n",
    "from sklearn.model_selection import train_test_split\n",
    "X_train, X_test, y_train, y_test = train_test_split(x, y, test_size=0.2, random_state=101)"
   ]
  },
  {
   "cell_type": "code",
   "execution_count": 24,
   "metadata": {},
   "outputs": [
    {
     "name": "stdout",
     "output_type": "stream",
     "text": [
      "177     52.00\n",
      "112     40.00\n",
      "182     19.60\n",
      "148     26.40\n",
      "183     21.00\n",
      "171     80.00\n",
      "135     50.60\n",
      "89      86.00\n",
      "37      35.75\n",
      "34      39.75\n",
      "147     35.10\n",
      "65      80.00\n",
      "78      50.00\n",
      "154     12.80\n",
      "142     35.42\n",
      "66      90.00\n",
      "85      44.00\n",
      "175     52.50\n",
      "31      80.00\n",
      "91     137.60\n",
      "42      27.00\n",
      "41      30.25\n",
      "155     10.50\n",
      "54      50.00\n",
      "169      9.60\n",
      "48      15.00\n",
      "50      30.00\n",
      "160     11.10\n",
      "163     13.20\n",
      "159      9.90\n",
      "25      50.00\n",
      "55      60.00\n",
      "204     40.00\n",
      "2       27.50\n",
      "12      28.00\n",
      "139     48.50\n",
      "149     44.80\n",
      "22      30.00\n",
      "133     54.00\n",
      "39      33.00\n",
      "32      52.00\n",
      "145     37.45\n",
      "Name: Pricees, dtype: float64\n"
     ]
    }
   ],
   "source": [
    "print(y_test)"
   ]
  },
  {
   "cell_type": "code",
   "execution_count": 25,
   "metadata": {},
   "outputs": [
    {
     "name": "stdout",
     "output_type": "stream",
     "text": [
      "     new_Colony  new_Phase  new_Block  new_Zone  new_marla  new_Side  \\\n",
      "177    0.857143        0.0        0.0       0.0   0.459459       1.0   \n",
      "112    0.428571        0.0        0.4       0.0   0.459459       0.0   \n",
      "182    0.857143        0.0        0.0       0.0   0.108108       0.0   \n",
      "148    0.571429        0.0        0.0       0.0   0.067568       0.0   \n",
      "183    0.857143        0.0        0.0       0.0   0.108108       1.0   \n",
      "171    0.857143        0.0        0.0       0.0   1.000000       1.0   \n",
      "135    0.571429        0.0        0.0       0.0   0.216216       1.0   \n",
      "89     0.285714        0.0        0.8       0.0   0.459459       0.0   \n",
      "37     0.142857        0.0        0.0       0.0   0.270270       1.0   \n",
      "34     0.142857        0.0        0.0       0.0   0.324324       0.0   \n",
      "147    0.571429        0.0        0.0       0.0   0.094595       1.0   \n",
      "65     0.285714        0.0        0.0       0.0   0.324324       0.0   \n",
      "78     0.285714        0.0        0.4       0.0   0.189189       0.0   \n",
      "154    0.714286        0.0        0.0       0.0   0.135135       1.0   \n",
      "142    0.571429        0.0        0.0       0.0   0.127027       0.0   \n",
      "66     0.285714        0.0        0.0       1.0   0.189189       0.0   \n",
      "85     0.285714        0.0        0.6       0.0   0.189189       0.0   \n",
      "175    0.857143        0.0        0.0       0.0   0.594595       1.0   \n",
      "31     0.000000        0.0        0.0       1.0   1.000000       1.0   \n",
      "91     0.285714        0.0        1.0       0.0   0.783784       1.0   \n",
      "42     0.142857        0.0        0.0       0.0   0.189189       0.0   \n",
      "41     0.142857        0.0        0.0       0.0   0.216216       1.0   \n",
      "155    0.714286        0.0        0.0       0.0   0.121622       0.0   \n",
      "54     0.285714        0.0        0.0       0.0   0.135135       0.0   \n",
      "169    0.714286        0.0        0.0       0.0   0.027027       1.0   \n",
      "48     0.142857        0.0        0.0       0.0   0.054054       0.0   \n",
      "50     0.285714        0.0        0.0       0.0   0.054054       0.0   \n",
      "160    0.714286        0.0        0.0       0.0   0.081081       1.0   \n",
      "163    0.714286        0.0        0.0       0.0   0.067568       1.0   \n",
      "159    0.714286        0.0        0.0       0.0   0.081081       0.0   \n",
      "25     0.000000        0.0        0.0       0.0   0.459459       1.0   \n",
      "55     0.285714        0.0        0.0       0.0   0.135135       1.0   \n",
      "204    1.000000        0.0        0.0       0.0   0.459459       0.0   \n",
      "2      0.000000        0.0        0.0       1.0   0.054054       0.0   \n",
      "12     0.000000        0.0        0.0       0.0   0.108108       1.0   \n",
      "139    0.571429        0.0        0.0       0.0   0.189189       1.0   \n",
      "149    0.571429        0.0        0.0       0.0   0.067568       1.0   \n",
      "22     0.000000        0.0        0.0       1.0   0.189189       1.0   \n",
      "133    0.571429        0.0        0.0       0.0   0.243243       1.0   \n",
      "39     0.142857        0.0        0.0       0.0   0.243243       1.0   \n",
      "32     0.142857        0.0        0.0       0.0   0.459459       0.0   \n",
      "145    0.571429        0.0        0.0       0.0   0.108108       1.0   \n",
      "\n",
      "     new_Park Facing  new_market  new_Near Mosque  new_Near School  \\\n",
      "177              0.0         0.0              0.0              0.0   \n",
      "112              0.0         0.0              0.0              0.0   \n",
      "182              0.0         0.0              1.0              0.0   \n",
      "148              0.0         0.0              0.0              0.0   \n",
      "183              0.0         0.0              1.0              0.0   \n",
      "171              0.0         0.0              0.0              0.0   \n",
      "135              0.0         0.0              0.0              0.0   \n",
      "89               1.0         0.0              1.0              0.0   \n",
      "37               1.0         0.0              1.0              0.0   \n",
      "34               0.0         0.0              0.0              0.0   \n",
      "147              0.0         0.0              0.0              0.0   \n",
      "65               1.0         0.0              1.0              0.0   \n",
      "78               0.0         0.0              0.0              0.0   \n",
      "154              0.0         0.0              1.0              0.0   \n",
      "142              0.0         0.0              0.0              0.0   \n",
      "66               0.0         0.0              0.0              0.0   \n",
      "85               1.0         0.0              1.0              0.0   \n",
      "175              0.0         0.0              0.0              0.0   \n",
      "31               1.0         1.0              1.0              0.0   \n",
      "91               0.0         0.0              0.0              0.0   \n",
      "42               1.0         0.0              1.0              0.0   \n",
      "41               1.0         0.0              1.0              0.0   \n",
      "155              0.0         0.0              0.0              0.0   \n",
      "54               0.0         0.0              0.0              0.0   \n",
      "169              0.0         0.0              0.0              0.0   \n",
      "48               0.0         0.0              0.0              0.0   \n",
      "50               0.0         0.0              0.0              0.0   \n",
      "160              0.0         0.0              1.0              0.0   \n",
      "163              1.0         0.0              0.0              0.0   \n",
      "159              0.0         0.0              1.0              0.0   \n",
      "25               0.0         0.0              0.0              0.0   \n",
      "55               0.0         0.0              0.0              0.0   \n",
      "204              0.0         0.0              0.0              0.0   \n",
      "2                1.0         1.0              0.0              0.0   \n",
      "12               0.0         0.0              0.0              0.0   \n",
      "139              0.0         0.0              1.0              0.0   \n",
      "149              0.0         0.0              0.0              0.0   \n",
      "22               1.0         1.0              0.0              0.0   \n",
      "133              0.0         0.0              0.0              0.0   \n",
      "39               0.0         0.0              0.0              0.0   \n",
      "32               0.0         0.0              0.0              0.0   \n",
      "145              0.0         0.0              0.0              0.0   \n",
      "\n",
      "     new_Electricity  new_Natural Gas  new_WASA  \n",
      "177              0.0              1.0       0.0  \n",
      "112              0.0              0.0       0.0  \n",
      "182              0.0              1.0       0.0  \n",
      "148              0.0              1.0       0.0  \n",
      "183              0.0              1.0       0.0  \n",
      "171              0.0              1.0       0.0  \n",
      "135              0.0              1.0       0.0  \n",
      "89               0.0              1.0       0.0  \n",
      "37               0.0              0.0       0.0  \n",
      "34               0.0              0.0       0.0  \n",
      "147              0.0              1.0       0.0  \n",
      "65               0.0              1.0       0.0  \n",
      "78               0.0              1.0       0.0  \n",
      "154              0.0              0.0       0.0  \n",
      "142              0.0              1.0       0.0  \n",
      "66               0.0              1.0       0.0  \n",
      "85               0.0              1.0       0.0  \n",
      "175              0.0              1.0       0.0  \n",
      "31               0.0              1.0       0.0  \n",
      "91               0.0              1.0       0.0  \n",
      "42               0.0              0.0       0.0  \n",
      "41               0.0              0.0       0.0  \n",
      "155              0.0              0.0       0.0  \n",
      "54               0.0              1.0       0.0  \n",
      "169              0.0              0.0       0.0  \n",
      "48               0.0              0.0       0.0  \n",
      "50               0.0              1.0       0.0  \n",
      "160              0.0              0.0       0.0  \n",
      "163              0.0              0.0       0.0  \n",
      "159              0.0              0.0       0.0  \n",
      "25               0.0              1.0       0.0  \n",
      "55               0.0              1.0       0.0  \n",
      "204              0.0              1.0       0.0  \n",
      "2                0.0              1.0       0.0  \n",
      "12               0.0              1.0       0.0  \n",
      "139              0.0              1.0       0.0  \n",
      "149              0.0              1.0       0.0  \n",
      "22               0.0              1.0       0.0  \n",
      "133              0.0              1.0       0.0  \n",
      "39               0.0              0.0       0.0  \n",
      "32               0.0              0.0       0.0  \n",
      "145              0.0              1.0       0.0  \n"
     ]
    }
   ],
   "source": [
    "print(X_test)"
   ]
  },
  {
   "cell_type": "code",
   "execution_count": 26,
   "metadata": {},
   "outputs": [
    {
     "name": "stdout",
     "output_type": "stream",
     "text": [
      "     new_Colony  new_Phase  new_Block  new_Zone  new_marla  new_Side  \\\n",
      "74     0.285714        0.0        0.2       0.0   0.135135       0.0   \n",
      "196    1.000000        0.0        0.0       0.0   0.054054       0.0   \n",
      "119    0.428571        0.0        0.6       0.0   0.459459       1.0   \n",
      "16     0.000000        0.0        0.0       0.0   0.189189       0.0   \n",
      "207    1.000000        0.0        0.0       0.0   0.459459       1.0   \n",
      "..          ...        ...        ...       ...        ...       ...   \n",
      "63     0.285714        0.0        0.0       0.0   0.324324       1.0   \n",
      "70     0.285714        0.0        0.2       0.0   0.054054       0.0   \n",
      "81     0.285714        0.0        0.4       0.0   0.189189       0.0   \n",
      "11     0.000000        0.0        0.0       1.0   0.108108       0.0   \n",
      "95     0.428571        0.0        0.0       0.0   0.459459       1.0   \n",
      "\n",
      "     new_Park Facing  new_market  new_Near Mosque  new_Near School  \\\n",
      "74               0.0         0.0              0.0              0.0   \n",
      "196              1.0         0.0              1.0              0.0   \n",
      "119              0.0         0.0              0.0              0.0   \n",
      "16               0.0         0.0              0.0              0.0   \n",
      "207              1.0         0.0              0.0              0.0   \n",
      "..               ...         ...              ...              ...   \n",
      "63               0.0         0.0              0.0              0.0   \n",
      "70               0.0         0.0              0.0              0.0   \n",
      "81               1.0         0.0              1.0              0.0   \n",
      "11               1.0         1.0              1.0              0.0   \n",
      "95               0.0         0.0              0.0              0.0   \n",
      "\n",
      "     new_Electricity  new_Natural Gas  new_WASA  \n",
      "74               0.0              1.0       0.0  \n",
      "196              0.0              1.0       0.0  \n",
      "119              0.0              0.0       0.0  \n",
      "16               0.0              1.0       0.0  \n",
      "207              0.0              1.0       0.0  \n",
      "..               ...              ...       ...  \n",
      "63               0.0              1.0       0.0  \n",
      "70               0.0              1.0       0.0  \n",
      "81               0.0              1.0       0.0  \n",
      "11               0.0              1.0       0.0  \n",
      "95               0.0              0.0       0.0  \n",
      "\n",
      "[166 rows x 13 columns]\n"
     ]
    }
   ],
   "source": [
    "print(X_train)"
   ]
  },
  {
   "cell_type": "code",
   "execution_count": 27,
   "metadata": {},
   "outputs": [
    {
     "name": "stdout",
     "output_type": "stream",
     "text": [
      "74     35.9\n",
      "196    15.0\n",
      "119    30.0\n",
      "16     30.0\n",
      "207    40.0\n",
      "       ... \n",
      "63     90.0\n",
      "70     22.0\n",
      "81     50.0\n",
      "11     30.0\n",
      "95     60.0\n",
      "Name: Pricees, Length: 166, dtype: float64\n"
     ]
    }
   ],
   "source": [
    "print(y_train)"
   ]
  },
  {
   "cell_type": "code",
   "execution_count": 28,
   "metadata": {},
   "outputs": [
    {
     "name": "stdout",
     "output_type": "stream",
     "text": [
      "(166, 13)\n"
     ]
    }
   ],
   "source": [
    "print(X_train.shape)"
   ]
  },
  {
   "cell_type": "code",
   "execution_count": 29,
   "metadata": {},
   "outputs": [
    {
     "name": "stdout",
     "output_type": "stream",
     "text": [
      "(166,)\n"
     ]
    }
   ],
   "source": [
    "print(y_train.shape)"
   ]
  },
  {
   "cell_type": "code",
   "execution_count": 30,
   "metadata": {},
   "outputs": [
    {
     "name": "stdout",
     "output_type": "stream",
     "text": [
      "(42, 13)\n"
     ]
    }
   ],
   "source": [
    "print(X_test.shape)"
   ]
  },
  {
   "cell_type": "code",
   "execution_count": 31,
   "metadata": {},
   "outputs": [
    {
     "name": "stdout",
     "output_type": "stream",
     "text": [
      "(42,)\n"
     ]
    }
   ],
   "source": [
    "print(y_test.shape)"
   ]
  },
  {
   "cell_type": "markdown",
   "metadata": {},
   "source": [
    "# Algorithms\n",
    "# 1.Linear Regression\n",
    "# 2. Gradient Boosting Regression\n",
    "# 3. Random Forest Regression"
   ]
  },
  {
   "cell_type": "markdown",
   "metadata": {},
   "source": [
    "# 1. Linear Regression"
   ]
  },
  {
   "cell_type": "code",
   "execution_count": 32,
   "metadata": {},
   "outputs": [
    {
     "name": "stdout",
     "output_type": "stream",
     "text": [
      "Score of Linear Regression: 0.823\n"
     ]
    }
   ],
   "source": [
    "#Linear Regression and Scores\n",
    "from sklearn.linear_model import LinearRegression\n",
    "\n",
    "#loading the model constructor\n",
    "lm = LinearRegression()\n",
    "#training or fitting the train data into the model\n",
    "lm.fit(X_train,y_train)\n",
    "#sc1 = lm.score(X_test, y_test)\n",
    "#print('Score of Linear Regression:',np.round(sc1, 3))\n",
    "predictions = lm.predict(X_test)\n",
    "sc1=r2_score(y_test,predictions)\n",
    "print('Score of Linear Regression:',np.round(sc1, 3))"
   ]
  },
  {
   "cell_type": "code",
   "execution_count": 33,
   "metadata": {},
   "outputs": [
    {
     "name": "stdout",
     "output_type": "stream",
     "text": [
      "15.80619782680899\n"
     ]
    }
   ],
   "source": [
    "print(lm.intercept_)"
   ]
  },
  {
   "cell_type": "code",
   "execution_count": 34,
   "metadata": {},
   "outputs": [
    {
     "data": {
      "text/plain": [
       "array([-1.37912569e+01, -6.21724894e-15,  2.56583314e+01,  5.17397758e+01,\n",
       "        7.65150556e+01,  1.73908641e+00, -4.62712718e-02, -6.34281360e+01,\n",
       "        3.24229090e+00,  2.13466087e+00,  0.00000000e+00,  1.36222859e+01,\n",
       "        0.00000000e+00])"
      ]
     },
     "execution_count": 34,
     "metadata": {},
     "output_type": "execute_result"
    }
   ],
   "source": [
    "lm.coef_\n",
    "#examining the co-efficients of the fitted model."
   ]
  },
  {
   "cell_type": "code",
   "execution_count": 35,
   "metadata": {},
   "outputs": [],
   "source": [
    "#x_train.columns"
   ]
  },
  {
   "cell_type": "code",
   "execution_count": 36,
   "metadata": {},
   "outputs": [],
   "source": [
    "#cdf = pd.DataFrame(data=lm.coef_.reshape(5,1), index=x_train.columns, columns=['Coeff'])"
   ]
  },
  {
   "cell_type": "code",
   "execution_count": 37,
   "metadata": {},
   "outputs": [],
   "source": [
    "#cdf"
   ]
  },
  {
   "cell_type": "markdown",
   "metadata": {},
   "source": [
    "# Scatter Plot of linear Regression"
   ]
  },
  {
   "cell_type": "code",
   "execution_count": 38,
   "metadata": {},
   "outputs": [
    {
     "data": {
      "image/png": "[encoded data removed]",
      "text/plain": [
       "<Figure size 504x360 with 1 Axes>"
      ]
     },
     "metadata": {
      "needs_background": "light"
     },
     "output_type": "display_data"
    }
   ],
   "source": [
    "\n",
    "plt.figure(figsize=(7,5))\n",
    "plt.scatter(predictions, y_test, label='Price ', marker= '^',color='#C20078' )\n",
    "plt.title('Scatter Plot Of Linear Regression',color='indigo',fontsize=16)\n",
    "plt.xlabel('Predictive Price',color='indigo',fontsize=16)\n",
    "plt.ylabel('Actual Price',color='indigo',fontsize=16)\n",
    "plt.legend()\n",
    "plt.tight_layout()\n",
    "plt.savefig('L.svg')\n",
    "plt.show()\n",
    "#to visualise the predictions and the test Y !! almost it is forming a linear line with less deviation"
   ]
  },
  {
   "cell_type": "code",
   "execution_count": null,
   "metadata": {},
   "outputs": [],
   "source": []
  },
  {
   "cell_type": "code",
   "execution_count": 39,
   "metadata": {},
   "outputs": [
    {
     "data": {
      "text/plain": [
       "<matplotlib.axes._subplots.AxesSubplot at 0x193ae6c0b48>"
      ]
     },
     "execution_count": 39,
     "metadata": {},
     "output_type": "execute_result"
    },
    {
     "data": {
      "image/png": "[encoded data removed]",
      "text/plain": [
       "<Figure size 432x288 with 1 Axes>"
      ]
     },
     "metadata": {
      "needs_background": "light"
     },
     "output_type": "display_data"
    }
   ],
   "source": [
    "sns. regplot(y_test,predictions, color='green', label= 'price',marker = '^')\n"
   ]
  },
  {
   "cell_type": "code",
   "execution_count": 40,
   "metadata": {},
   "outputs": [
    {
     "data": {
      "text/plain": [
       "<matplotlib.axes._subplots.AxesSubplot at 0x193af310448>"
      ]
     },
     "execution_count": 40,
     "metadata": {},
     "output_type": "execute_result"
    },
    {
     "data": {
      "image/png": "[encoded data removed]",
      "text/plain": [
       "<Figure size 432x288 with 1 Axes>"
      ]
     },
     "metadata": {
      "needs_background": "light"
     },
     "output_type": "display_data"
    }
   ],
   "source": [
    "sns.distplot((y_test-predictions))"
   ]
  },
  {
   "cell_type": "markdown",
   "metadata": {},
   "source": [
    "# Mean and Root mean Errors of Linear regression"
   ]
  },
  {
   "cell_type": "code",
   "execution_count": 41,
   "metadata": {},
   "outputs": [
    {
     "name": "stdout",
     "output_type": "stream",
     "text": [
      "Mean absolute error: 8.275716314100386\n",
      "Mean square error: 116.63256642126684\n",
      "Root Mean square error: 10.799655847353046\n"
     ]
    }
   ],
   "source": [
    "#mean absolute error\n",
    "MAE = metrics.mean_absolute_error(y_test,predictions)\n",
    "print('Mean absolute error:', MAE)\n",
    "\n",
    "#mean square error\n",
    "MSE = (metrics.mean_squared_error(y_test, predictions))\n",
    "print('Mean square error:', MSE)\n",
    "\n",
    "#root mean square error\n",
    "RMSE = np.sqrt(metrics.mean_squared_error(y_test, predictions))\n",
    "print('Root Mean square error:', RMSE)"
   ]
  },
  {
   "cell_type": "markdown",
   "metadata": {},
   "source": [
    "# 2. Gradient Boosting Regression"
   ]
  },
  {
   "cell_type": "code",
   "execution_count": 42,
   "metadata": {},
   "outputs": [
    {
     "name": "stdout",
     "output_type": "stream",
     "text": [
      "Score of Gradient Boosting Regression: 0.983\n"
     ]
    }
   ],
   "source": [
    "#Gradient Boosting Regression and Score\n",
    "from sklearn.ensemble import GradientBoostingRegressor\n",
    "grb = GradientBoostingRegressor()\n",
    "grb.fit(X_train, y_train.values.ravel())\n",
    "#The score of GBR\n",
    "#sc2 = grb.score(X_test, y_test)\n",
    "#print('Score of Gradient Boosting Regression:',np.round(sc2, 3))\n",
    "Gpredictions = grb.predict(X_test)\n",
    "sc2=r2_score(Gpredictions,y_test)\n",
    "print('Score of Gradient Boosting Regression:',np.round(sc2, 3))\n"
   ]
  },
  {
   "cell_type": "markdown",
   "metadata": {},
   "source": [
    "# Scatter Plot of Gradient Boosting"
   ]
  },
  {
   "cell_type": "code",
   "execution_count": 43,
   "metadata": {},
   "outputs": [
    {
     "data": {
      "image/png": "[encoded data removed]",
      "text/plain": [
       "<Figure size 504x360 with 1 Axes>"
      ]
     },
     "metadata": {
      "needs_background": "light"
     },
     "output_type": "display_data"
    }
   ],
   "source": [
    "\n",
    "plt.figure(figsize=(7,5))\n",
    "plt.scatter(Gpredictions,y_test , label='Price', marker= '^',color='#C20078')\n",
    "plt.title('Scatter Plot of Gradients Boosting',color='indigo',fontsize=16)\n",
    "plt.xlabel('Predictive Price',color='indigo',fontsize=16)\n",
    "plt.ylabel('Actual Price',color='indigo',fontsize=16)\n",
    "plt.legend()\n",
    "plt.tight_layout()\n",
    "plt.savefig('G.svg')\n",
    "plt.show()"
   ]
  },
  {
   "cell_type": "code",
   "execution_count": 44,
   "metadata": {},
   "outputs": [
    {
     "data": {
      "text/plain": [
       "<matplotlib.axes._subplots.AxesSubplot at 0x193ae6c7188>"
      ]
     },
     "execution_count": 44,
     "metadata": {},
     "output_type": "execute_result"
    },
    {
     "data": {
      "image/png": "[encoded data removed]",
      "text/plain": [
       "<Figure size 432x288 with 1 Axes>"
      ]
     },
     "metadata": {
      "needs_background": "light"
     },
     "output_type": "display_data"
    }
   ],
   "source": [
    "sns. regplot(y_test, Gpredictions, color='green', label= 'price',marker = '^')"
   ]
  },
  {
   "cell_type": "markdown",
   "metadata": {},
   "source": [
    "# Mean and Root mean error of Gradient Boosting"
   ]
  },
  {
   "cell_type": "code",
   "execution_count": 45,
   "metadata": {},
   "outputs": [
    {
     "name": "stdout",
     "output_type": "stream",
     "text": [
      "Mean absolute error: 2.3392390083304853\n",
      "Mean square error: 11.066932237635822\n",
      "Root Mean square error: 3.326699901950253\n"
     ]
    }
   ],
   "source": [
    "#mean absolute error\n",
    "MAEG = metrics.mean_absolute_error(y_test,Gpredictions)\n",
    "print('Mean absolute error:', MAEG)\n",
    "\n",
    "#mean square error\n",
    "MSEG = (metrics.mean_squared_error(y_test, Gpredictions))\n",
    "\n",
    "print('Mean square error:', MSEG)\n",
    "\n",
    "#root mean square error\n",
    "RMSEG = np.sqrt(metrics.mean_squared_error(y_test, Gpredictions))\n",
    "print('Root Mean square error:', RMSEG)"
   ]
  },
  {
   "cell_type": "markdown",
   "metadata": {},
   "source": [
    "# 3. Random Forest Regression"
   ]
  },
  {
   "cell_type": "code",
   "execution_count": 101,
   "metadata": {},
   "outputs": [
    {
     "name": "stdout",
     "output_type": "stream",
     "text": [
      "Score of Random Forest Regression: 0.97\n"
     ]
    }
   ],
   "source": [
    "from sklearn.ensemble import RandomForestRegressor\n",
    "from sklearn.metrics import r2_score\n",
    "rfr = RandomForestRegressor()\n",
    "rfr.fit(X_train, y_train.values.ravel())\n",
    "#The score of Random forest\n",
    "#sc3 = rfr.score(X_test, y_test)\n",
    "#print('Score of Random Forest Regression:',np.round(sc3, 3))\n",
    "Rpredictions = rfr.predict(X_test)\n",
    "sc3=r2_score(y_test,Rpredictions)\n",
    "print('Score of Random Forest Regression:',np.round(sc3, 3))"
   ]
  },
  {
   "cell_type": "markdown",
   "metadata": {},
   "source": [
    "# Scatter plot of Random Forest"
   ]
  },
  {
   "cell_type": "code",
   "execution_count": 102,
   "metadata": {},
   "outputs": [
    {
     "data": {
      "image/png": "[encoded data removed]",
      "text/plain": [
       "<Figure size 504x360 with 1 Axes>"
      ]
     },
     "metadata": {
      "needs_background": "light"
     },
     "output_type": "display_data"
    }
   ],
   "source": [
    "\n",
    "plt.figure(figsize=(7,5))\n",
    "plt.scatter( Rpredictions ,y_test, marker= '^',color='#C20078',label='price')\n",
    "plt.title('Scatter Plot of Random Forest',color='indigo',fontsize=16)\n",
    "plt.xlabel('Predictive Price',color='indigo',fontsize=16)\n",
    "plt.ylabel('Actual Price',color='indigo',fontsize=16)\n",
    "plt.legend()\n",
    "plt.tight_layout()\n",
    "plt.savefig('R.svg')\n",
    "plt.show()"
   ]
  },
  {
   "cell_type": "code",
   "execution_count": 103,
   "metadata": {},
   "outputs": [
    {
     "data": {
      "text/plain": [
       "<matplotlib.axes._subplots.AxesSubplot at 0x193b0c41248>"
      ]
     },
     "execution_count": 103,
     "metadata": {},
     "output_type": "execute_result"
    },
    {
     "data": {
      "image/png": "[encoded data removed]",
      "text/plain": [
       "<Figure size 432x288 with 1 Axes>"
      ]
     },
     "metadata": {
      "needs_background": "light"
     },
     "output_type": "display_data"
    }
   ],
   "source": [
    "sns. regplot(y_test, Rpredictions, color='green', label= 'price',marker = '^')"
   ]
  },
  {
   "cell_type": "markdown",
   "metadata": {},
   "source": [
    "# Mean and Root mean error Random Forest"
   ]
  },
  {
   "cell_type": "code",
   "execution_count": 104,
   "metadata": {},
   "outputs": [
    {
     "name": "stdout",
     "output_type": "stream",
     "text": [
      "Mean absolute error: 3.163452380952375\n",
      "Mean square error: 19.858079484166637\n",
      "Root Mean square error: 4.45624051013482\n"
     ]
    }
   ],
   "source": [
    "#mean absolute error\n",
    "MAER = metrics.mean_absolute_error(y_test,Rpredictions)\n",
    "print('Mean absolute error:', MAER)\n",
    "\n",
    "#mean square error\n",
    "MSER = (metrics.mean_squared_error(y_test, Rpredictions))\n",
    "print('Mean square error:', MSER)\n",
    "\n",
    "#root mean square error\n",
    "RMSER = np.sqrt(metrics.mean_squared_error(y_test, Rpredictions))\n",
    "print('Root Mean square error:', RMSER)"
   ]
  },
  {
   "cell_type": "markdown",
   "metadata": {},
   "source": [
    "# Performance of Algorithms according to the score"
   ]
  },
  {
   "cell_type": "code",
   "execution_count": 112,
   "metadata": {},
   "outputs": [
    {
     "data": {
      "image/png": "[encoded data removed]",
      "text/plain": [
       "<Figure size 432x432 with 1 Axes>"
      ]
     },
     "metadata": {
      "needs_background": "light"
     },
     "output_type": "display_data"
    }
   ],
   "source": [
    "plt.figure(figsize=(6,6))\n",
    "Algo= ['LR' ,'GBR','RFR' ]\n",
    "algopos=np.arange(len(Algo))\n",
    "plt.xticks(algopos,Algo, fontsize=14)\n",
    "B=[np.round(sc1,3),np.round(sc2,3), np.round(sc3,3)]\n",
    "plt.bar( Algo, B,label='Accuracy Score',width=0.4,color =\"white\",edgecolor =\"black\",hatch =\"\\\\\\\\\", linewidth=2)\n",
    "\n",
    "for i in range(len(Algo)):\n",
    "     plt.text(i,B[i],B[i], ha = \"center\", va= \"bottom\")\n",
    "plt.legend()\n",
    "plt.title('Score of Predictive Models', color='indigo', fontsize=14)\n",
    "plt.ylabel(' Score', color='indigo', fontsize=14)\n",
    "#lt.xlabel('Algorithms', color='indigo',fontsize=14)\n",
    "plt.xticks(rotation=45,color='red')\n",
    "plt.tight_layout()\n",
    "plt.savefig('Score0.svg')\n",
    "plt.show()"
   ]
  },
  {
   "cell_type": "markdown",
   "metadata": {},
   "source": [
    "# Performance of Algorithms according to the MAE"
   ]
  },
  {
   "cell_type": "code",
   "execution_count": 51,
   "metadata": {},
   "outputs": [
    {
     "data": {
      "image/png": "[encoded data removed]",
      "text/plain": [
       "<Figure size 576x1224 with 3 Axes>"
      ]
     },
     "metadata": {
      "needs_background": "light"
     },
     "output_type": "display_data"
    }
   ],
   "source": [
    "fig, ax = plt.subplots(nrows =3 , ncols= 1,figsize=(8,17))\n",
    "#ax.set_title(\"Mean and Root mean squared Errors\")\n",
    "AAE= ['LR' ,'GBR','RFR' ]\n",
    "xval=range(3)\n",
    "\n",
    "#ax[0]\n",
    "BAE= [MAE,MAEG,MAER]\n",
    "ax[0].bar(AAE,BAE,label='Mean Absolute Error',width=0.4,color=['dodgerblue','darkcyan','peru'])\n",
    "ax[0].legend()\n",
    "ax[0].set_xticks(xval)\n",
    "ax[0].set_xticklabels(AAE,rotation=45,ha='center',fontsize=14,color='red')\n",
    "ax[0].set_title(\"Mean and Root Mean Errors in the Predictive values\",color='indigo',fontsize=16)\n",
    "ax[0].set_ylabel('Mean Absolute Error', color='indigo',fontsize=16)\n",
    "ax[0].set_xlabel('Algorithms',color='indigo',fontsize=16)\n",
    "\n",
    "# ax[2]\n",
    "BSSE= [MSE,MSEG,MSER]\n",
    "ax[1].bar(AAE,BSSE,label=' Mean Square Error',width =0.4,color=['dodgerblue','darkcyan','peru'])\n",
    "ax[1].legend()\n",
    "ax[1].set_xticks(xval)\n",
    "ax[1].set_xticklabels(AAE,rotation=45,ha='center',fontsize=14,color='red')\n",
    "ax[1].set_title(\"Mean and Root Mean Errors in the Predictive values\",color='indigo',fontsize=16)\n",
    "ax[1].set_ylabel('Mean Square Error',color='indigo',fontsize=16)\n",
    "ax[1].set_xlabel('Algorithms',color='indigo',fontsize=16)\n",
    "\n",
    "\n",
    "# ax[3]\n",
    "BRSE=[RMSE,RMSEG,RMSER]\n",
    "ax[2].bar(AAE,BRSE,label='Root Mean Squared Error',width=0.4,color=['dodgerblue','darkcyan','peru'])\n",
    "ax[2].legend()\n",
    "ax[2].set_xticks(xval)\n",
    "ax[2].set_xticklabels(AAE,rotation=45,ha='center',fontsize=14,color='red')\n",
    "ax[2].set_title(\"Mean and Root Mean Errors in the Predictive values\",color='indigo',fontsize=16)\n",
    "ax[2].set_ylabel('Root Mean Squared Error',color='indigo',fontsize=16)\n",
    "ax[2].set_xlabel('Algorithms',color='indigo',fontsize=16)\n",
    "plt.tight_layout()\n",
    "plt.savefig('Adnan_Akhter.png')\n",
    "plt.show()"
   ]
  },
  {
   "cell_type": "markdown",
   "metadata": {},
   "source": [
    "# Linear regression with gridsearch"
   ]
  },
  {
   "cell_type": "code",
   "execution_count": 64,
   "metadata": {},
   "outputs": [
    {
     "name": "stdout",
     "output_type": "stream",
     "text": [
      "{'copy_X': True, 'fit_intercept': True, 'normalize': True}\n",
      "The score of optimized linear regression using the Gridsearchcv:  0.8233464111496334\n",
      "\n",
      "Mean absolute error of linear regression using gridsearch 8.275716314100393\n",
      "\n",
      "Mean squared error of linear regression using gridsearch 116.63256642126701\n",
      "\n",
      "Root Mean squared error of linear regression using gridsearch 10.799655847353055\n"
     ]
    }
   ],
   "source": [
    "#from sklearn.metrics import explained_variance_score\n",
    "parameters_lr = {'fit_intercept':[True,False], \n",
    "              'normalize':[True,False], \n",
    "              'copy_X':[True, False]\n",
    "              }\n",
    "\n",
    "\n",
    "grid_lr = GridSearchCV(lm,parameters_lr, cv=5,n_jobs=-1, verbose = 0)\n",
    "#grid = GridSearchCV(lm,parameters_lr, cv=5,scoring='neg_mean_absolute_error',n_jobs=-1)\n",
    "grid_lr.fit(X_train, y_train)\n",
    "print(grid_lr.best_params_)\n",
    "lrpreds = grid_lr.predict(X_test)\n",
    "lrscore= r2_score(y_test,lrpreds)\n",
    "print(\"The score of optimized linear regression using the Gridsearchcv: \",lrscore)\n",
    "#lrscore=grid.best_score_\n",
    "print()\n",
    "lrmae=metrics.mean_absolute_error(y_test, lrpreds)\n",
    "print(\"Mean absolute error of linear regression using gridsearch\",lrmae)\n",
    "\n",
    "print()\n",
    "lrmse=(metrics.mean_squared_error(y_test, lrpreds))\n",
    "print(\"Mean squared error of linear regression using gridsearch\",lrmse)\n",
    "\n",
    "print()\n",
    "lrrmse=np.sqrt(metrics.mean_squared_error(y_test,lrpreds))\n",
    "print(\"Root Mean squared error of linear regression using gridsearch\",lrrmse)"
   ]
  },
  {
   "cell_type": "markdown",
   "metadata": {},
   "source": [
    "# gradient boosting with gridsearch"
   ]
  },
  {
   "cell_type": "code",
   "execution_count": 74,
   "metadata": {},
   "outputs": [
    {
     "name": "stdout",
     "output_type": "stream",
     "text": [
      "Fitting 5 folds for each of 320 candidates, totalling 1600 fits\n"
     ]
    },
    {
     "name": "stderr",
     "output_type": "stream",
     "text": [
      "[Parallel(n_jobs=-1)]: Using backend LokyBackend with 4 concurrent workers.\n",
      "[Parallel(n_jobs=-1)]: Done  92 tasks      | elapsed:    3.8s\n",
      "[Parallel(n_jobs=-1)]: Done 348 tasks      | elapsed:   13.4s\n",
      "[Parallel(n_jobs=-1)]: Done 1068 tasks      | elapsed:   37.8s\n",
      "[Parallel(n_jobs=-1)]: Done 1593 out of 1600 | elapsed:   55.8s remaining:    0.1s\n",
      "[Parallel(n_jobs=-1)]: Done 1600 out of 1600 | elapsed:   55.9s finished\n"
     ]
    },
    {
     "name": "stdout",
     "output_type": "stream",
     "text": [
      "{'learning_rate': 0.04, 'max_depth': 6, 'n_estimators': 200, 'subsample': 0.5}\n",
      "The score of optimized GradientB using the Gridsearchcv:  0.9858211437772882\n",
      "\n",
      "Mean absolute error of gradient boosting using gridsearch 1.9404179107634123\n",
      "\n",
      "Mean squared error of gradient boosting using gridsearch 9.361351789879562\n",
      "\n",
      "Root Mean squared error of gradient boosting using gridsearch 3.059632623351954\n"
     ]
    }
   ],
   "source": [
    "parameters_gb= {   \n",
    "                  'learning_rate': [0.01,0.02,0.03,0.04],\n",
    "                  'subsample'    : [0.1,0.2,0.5,0.9,1.0],\n",
    "                  'n_estimators' : [5,10,200, 100],\n",
    "                  'max_depth'    : [3,4,5,6]\n",
    "                }\n",
    "\n",
    "grid_gb = GridSearchCV(grb,parameters_gb, cv=5,n_jobs=-1, verbose = 2)\n",
    "#grid_gb = GridSearchCV(grb,parameters_gb, cv=5,n_jobs=-1,scoring='neg_mean_absolute_error')\n",
    "grid_gb.fit(X_train, y_train.values.ravel())\n",
    "#grid_gb.best_estimators_\n",
    "print(grid_gb.best_params_)\n",
    "#gbscore=-grid_gb.best_score_\n",
    "gbpreds = grid_gb.predict(X_test)\n",
    "gbscore= r2_score(y_test,gbpreds)\n",
    "#gmae=-gbmae\n",
    "print(\"The score of optimized GradientB using the Gridsearchcv: \",gbscore)\n",
    "print()\n",
    "gbmae=metrics.mean_absolute_error(y_test, gbpreds)\n",
    "print(\"Mean absolute error of gradient boosting using gridsearch\",gbmae)\n",
    "print()\n",
    "\n",
    "gbmse=(metrics.mean_squared_error(y_test, gbpreds))\n",
    "print(\"Mean squared error of gradient boosting using gridsearch\",gbmse)\n",
    "print()\n",
    "\n",
    "gbrmse=np.sqrt(metrics.mean_squared_error(y_test,gbpreds))\n",
    "print(\"Root Mean squared error of gradient boosting using gridsearch\",gbrmse)"
   ]
  },
  {
   "cell_type": "markdown",
   "metadata": {},
   "source": [
    "# random forest with grid"
   ]
  },
  {
   "cell_type": "code",
   "execution_count": 100,
   "metadata": {
    "scrolled": true
   },
   "outputs": [
    {
     "name": "stdout",
     "output_type": "stream",
     "text": [
      "Fitting 5 folds for each of 192 candidates, totalling 960 fits\n"
     ]
    },
    {
     "name": "stderr",
     "output_type": "stream",
     "text": [
      "[Parallel(n_jobs=-1)]: Using backend LokyBackend with 4 concurrent workers.\n",
      "[Parallel(n_jobs=-1)]: Done  33 tasks      | elapsed:   16.8s\n",
      "[Parallel(n_jobs=-1)]: Done 154 tasks      | elapsed:   47.6s\n",
      "[Parallel(n_jobs=-1)]: Done 357 tasks      | elapsed:  1.6min\n",
      "[Parallel(n_jobs=-1)]: Done 640 tasks      | elapsed:  2.6min\n",
      "[Parallel(n_jobs=-1)]: Done 960 out of 960 | elapsed:  3.8min finished\n"
     ]
    },
    {
     "name": "stdout",
     "output_type": "stream",
     "text": [
      "{'bootstrap': True, 'max_depth': None, 'max_features': 'auto', 'min_samples_leaf': 1, 'n_estimators': 400}\n",
      "The score of optimized Random forest regression using the Gridsearchcv:  0.9716825844597438\n",
      "\n",
      "Mean absolute error of random forest regression using gridsearch 3.096512202380972\n",
      "\n",
      "Mean squared error of random forest regression using gridsearch 18.696098224616996\n",
      "\n",
      "Root Mean squared error of random forest regression using gridsearch 4.323898498417487\n"
     ]
    }
   ],
   "source": [
    "param_rfr = {'bootstrap': [True,False], \n",
    "                  'n_estimators': [400,300,200, 100], \n",
    "                  'max_depth': [3,4,5,None], \n",
    "                  'min_samples_leaf':[1,3],\n",
    "                  #'min_samples_split': [1, 2, 10, 12],\n",
    "                  'max_features': ['auto', 'log2', None]\n",
    "                  \n",
    "}\n",
    "\n",
    "grid_rfr = GridSearchCV(rfr,param_rfr, cv=5,n_jobs=-1, verbose = 2)\n",
    "#grid_rfr = GridSearchCV( rfr, param_rfr, cv = 5, n_jobs = -1)\n",
    "\n",
    "# grid_rfr = GridSearchCV(estimator = rfr, param_grid = param_rfr, \n",
    " #                         cv = 5, n_jobs = -1,scoring='neg_mean_absolute_error')\n",
    "grid_rfr.fit(X_train, y_train.values.ravel())\n",
    "print(grid_rfr.best_params_)\n",
    "rfrpreds = grid_rfr.predict(X_test)\n",
    "rfrscore= r2_score(y_test,rfrpreds)\n",
    "#rfrscore=grid_rfr.best_score_\n",
    "#rfmae=-rfrmae\n",
    "print(\"The score of optimized Random forest regression using the Gridsearchcv: \",rfrscore)\n",
    "print()\n",
    "rfrmae=metrics.mean_absolute_error(y_test, rfrpreds)\n",
    "print(\"Mean absolute error of random forest regression using gridsearch\",rfrmae)\n",
    "\n",
    "print()\n",
    "rfrmse=(metrics.mean_squared_error(y_test, rfrpreds))\n",
    "print(\"Mean squared error of random forest regression using gridsearch\",rfrmse)\n",
    "print()\n",
    "\n",
    "rfrrmse=np.sqrt(metrics.mean_squared_error(y_test,rfrpreds))\n",
    "print(\"Root Mean squared error of random forest regression using gridsearch\",rfrrmse)\n"
   ]
  },
  {
   "cell_type": "markdown",
   "metadata": {},
   "source": [
    "# All Algo with randomized search"
   ]
  },
  {
   "cell_type": "code",
   "execution_count": 67,
   "metadata": {},
   "outputs": [
    {
     "name": "stdout",
     "output_type": "stream",
     "text": [
      "Fitting 5 folds for each of 8 candidates, totalling 40 fits\n"
     ]
    },
    {
     "name": "stderr",
     "output_type": "stream",
     "text": [
      "C:\\anaconda\\lib\\site-packages\\sklearn\\model_selection\\_search.py:281: UserWarning: The total space of parameters 8 is smaller than n_iter=10. Running 8 iterations. For exhaustive searches, use GridSearchCV.\n",
      "  % (grid_size, self.n_iter, grid_size), UserWarning)\n",
      "[Parallel(n_jobs=-1)]: Using backend LokyBackend with 4 concurrent workers.\n"
     ]
    },
    {
     "name": "stdout",
     "output_type": "stream",
     "text": [
      "{'normalize': True, 'fit_intercept': True, 'copy_X': True}\n",
      "The score of optimized Linear regression using the Randomizedsearchcv:  0.8233464111496334\n",
      "\n",
      "Mean absolute error of linear regression using randomized 8.275716314100393\n",
      "\n",
      "Mean squared error of linear regression using radomizedsearch 116.63256642126701\n",
      "\n",
      "Root Mean squared error of linear regression using randomizedsearch 10.799655847353055\n"
     ]
    },
    {
     "name": "stderr",
     "output_type": "stream",
     "text": [
      "[Parallel(n_jobs=-1)]: Done  40 out of  40 | elapsed:    0.1s finished\n"
     ]
    }
   ],
   "source": [
    "hparameters_lr= {\n",
    "              'fit_intercept':[True,False], \n",
    "              'normalize':[True,False], \n",
    "              'copy_X':[True, False]\n",
    "              }\n",
    "# Set up the random search with 4-fold cross validation\n",
    "random_lr = RandomizedSearchCV(lm, hparameters_lr, cv=5, n_jobs = -1, verbose = 2)\n",
    "random_lr.fit(X_train, y_train)\n",
    "print(random_lr.best_params_)\n",
    "lrrpreds = random_lr.predict(X_test)\n",
    "rlrscore= r2_score(y_test,lrrpreds)\n",
    "#rlrscore=random_cv.best_score_\n",
    "\n",
    "print(\"The score of optimized Linear regression using the Randomizedsearchcv: \",rlrscore) \n",
    "print()\n",
    "rlrmae=metrics.mean_absolute_error(y_test, lrrpreds)\n",
    "print(\"Mean absolute error of linear regression using randomized\",rlrmae)\n",
    "\n",
    "print()\n",
    "rlrmse=(metrics.mean_squared_error(y_test, lrrpreds))\n",
    "print(\"Mean squared error of linear regression using radomizedsearch\",rlrmse)\n",
    "\n",
    "print()\n",
    "rlrrmse=np.sqrt(metrics.mean_squared_error(y_test,lrrpreds))\n",
    "print(\"Root Mean squared error of linear regression using randomizedsearch\",rlrrmse)\n",
    "\n"
   ]
  },
  {
   "cell_type": "code",
   "execution_count": 76,
   "metadata": {},
   "outputs": [
    {
     "name": "stdout",
     "output_type": "stream",
     "text": [
      "Fitting 5 folds for each of 10 candidates, totalling 50 fits\n"
     ]
    },
    {
     "name": "stderr",
     "output_type": "stream",
     "text": [
      "[Parallel(n_jobs=-1)]: Using backend LokyBackend with 4 concurrent workers.\n"
     ]
    },
    {
     "name": "stdout",
     "output_type": "stream",
     "text": [
      "{'subsample': 0.5, 'n_estimators': 200, 'max_depth': 6, 'learning_rate': 0.03}\n",
      "The score of optimized GradientB regression using the Randomizedsearchcv:  0.9842348366357114\n",
      "\n",
      "Mean absolute error of gradient regression using randomized 2.0560520425603044\n",
      "\n",
      "Mean squared error of gradient boosting regression using randomizedsearch 10.408684449569833\n",
      "\n",
      "Root Mean squared error of gradient B regression using randomizedsearch 3.2262492850940445\n"
     ]
    },
    {
     "name": "stderr",
     "output_type": "stream",
     "text": [
      "[Parallel(n_jobs=-1)]: Done  50 out of  50 | elapsed:    1.4s finished\n"
     ]
    }
   ],
   "source": [
    "\n",
    "# Define the grid of hyperparameters to search\n",
    "hparameter_gb = {'learning_rate': [0.01,0.02,0.03,0.04],\n",
    "                  'subsample'    : [0.1,0.2,0.5,0.9,1.0],\n",
    "                  'n_estimators' : [5,10,200, 100],\n",
    "                  'max_depth'    : [3,4,5,6]\n",
    "\n",
    "    }\n",
    "\n",
    "# Set up the random search with 4-fold cross validation\n",
    "random_gb = RandomizedSearchCV(grb, hparameter_gb, cv=5, n_jobs = -1, verbose = 2)\n",
    "random_gb.fit(X_train, y_train.values.ravel())\n",
    "print(random_gb.best_params_)\n",
    "gbrpreds = random_gb.predict(X_test)\n",
    "rgbscore= r2_score(y_test,gbrpreds)\n",
    "#rgbscore=random_cv.best_score_\n",
    "print(\"The score of optimized GradientB regression using the Randomizedsearchcv: \",rgbscore)\n",
    "\n",
    "print()\n",
    "\n",
    "rgbmae=metrics.mean_absolute_error(y_test, gbrpreds)\n",
    "print(\"Mean absolute error of gradient regression using randomized\",rgbmae)\n",
    "\n",
    "print()\n",
    "rgbmse=(metrics.mean_squared_error(y_test, gbrpreds))\n",
    "print(\"Mean squared error of gradient boosting regression using randomizedsearch\",rgbmse)\n",
    "\n",
    "print()\n",
    "rgbrmse=np.sqrt(metrics.mean_squared_error(y_test,gbrpreds))\n",
    "print(\"Root Mean squared error of gradient B regression using randomizedsearch\",rgbrmse)\n",
    "\n"
   ]
  },
  {
   "cell_type": "code",
   "execution_count": 80,
   "metadata": {},
   "outputs": [
    {
     "name": "stdout",
     "output_type": "stream",
     "text": [
      "Fitting 5 folds for each of 10 candidates, totalling 50 fits\n"
     ]
    },
    {
     "name": "stderr",
     "output_type": "stream",
     "text": [
      "[Parallel(n_jobs=-1)]: Using backend LokyBackend with 4 concurrent workers.\n",
      "[Parallel(n_jobs=-1)]: Done  33 tasks      | elapsed:    7.8s\n",
      "[Parallel(n_jobs=-1)]: Done  50 out of  50 | elapsed:   11.0s finished\n"
     ]
    },
    {
     "name": "stdout",
     "output_type": "stream",
     "text": [
      "{'n_estimators': 400, 'min_samples_leaf': 1, 'max_features': None, 'max_depth': None, 'bootstrap': False}\n",
      "The score of optimized Random forest regression using the Randomizedsearchcv:  0.976134489307846\n",
      "\n",
      "Mean absolute error of random forest regression using randomized 2.1329779761905017\n",
      "\n",
      "Mean squared error of random forest regression using randomizedsearch 15.75680278614582\n",
      "\n",
      "Root Mean squared error of random forest regression using randomizedsearch 3.969483944563301\n"
     ]
    }
   ],
   "source": [
    "# Define the grid of hyperparameters to search\n",
    "hparameter_rfr = {'bootstrap': [True,False], \n",
    "                  'n_estimators': [400,300,200, 100], \n",
    "                  'max_depth': [3,4,5,8,None], \n",
    "                  'min_samples_leaf':[1,3],\n",
    "                  #'min_samples_split': [1, 8, 10, 12,2],\n",
    "                  'max_features': ['auto', 'log2', None]\n",
    "                  \n",
    "    }\n",
    "\n",
    "# Set up the random search with 4-fold cross validation\n",
    "random_rfr = RandomizedSearchCV(rfr, hparameter_rfr, cv=5, n_jobs = -1, verbose = 2)\n",
    "random_rfr.fit(X_train, y_train.values.ravel())\n",
    "print(random_rfr.best_params_)\n",
    "rfrrpreds = random_rfr.predict(X_test)\n",
    "rrfrscore= r2_score(y_test,rfrrpreds)\n",
    "#rrfrscore=random_cv.best_score_\n",
    "print(\"The score of optimized Random forest regression using the Randomizedsearchcv: \",rrfrscore)\n",
    "\n",
    "print()\n",
    "\n",
    "rrfrmae=metrics.mean_absolute_error(y_test, rfrrpreds)\n",
    "print(\"Mean absolute error of random forest regression using randomized\",rrfrmae)\n",
    "\n",
    "print()\n",
    "\n",
    "rrfrmse=(metrics.mean_squared_error(y_test, rfrrpreds))\n",
    "print(\"Mean squared error of random forest regression using randomizedsearch\",rrfrmse)\n",
    "\n",
    "print()\n",
    "rrfrrmse=np.sqrt(metrics.mean_squared_error(y_test,rfrrpreds))\n",
    "print(\"Root Mean squared error of random forest regression using randomizedsearch\",rrfrrmse)\n",
    "\n"
   ]
  },
  {
   "cell_type": "code",
   "execution_count": 113,
   "metadata": {},
   "outputs": [
    {
     "data": {
      "image/png": "[encoded data removed]",
      "text/plain": [
       "<Figure size 648x504 with 1 Axes>"
      ]
     },
     "metadata": {
      "needs_background": "light"
     },
     "output_type": "display_data"
    }
   ],
   "source": [
    "string= ['lR' ,'GBR','RFR' ]\n",
    "convert_str=np.arange(len(string))  # the label locations\n",
    "width = 0.22  # the width of the bars\n",
    "accuracy= [np.round(sc1,3),np.round(sc2,3), np.round(sc3,3)]\n",
    "gridsearch= [np.round(lrscore,3),np.round(gbscore,3),np.round(rfrscore,3)]\n",
    "randomsearch=[np.round(rlrscore,3),np.round(rgbscore,3),np.round(rrfrscore,3)]\n",
    "\n",
    "fig, ax = plt.subplots(figsize=(9,7))\n",
    "rects1 = ax.bar(convert_str - 0.25, accuracy, width, label='Score with No Optimize',color =\"white\",edgecolor =\"black\",hatch =\"\\\\\\\\\",linewidth=2)\n",
    "rects2 = ax.bar(convert_str , gridsearch, width, label='Score with GridSearch',color =\"white\",edgecolor =\"green\",hatch =\"\\\\\\\\\",linewidth=2)\n",
    "rects3 = ax.bar(convert_str + 0.25, randomsearch, width, label='Score with RandomizedSearch',color =\"white\",edgecolor =\"blue\",hatch =\"\\\\\\\\\",linewidth=2)\n",
    "\n",
    "\n",
    "# Add some text for labels, title and custom x-axis tick labels, etc.\n",
    "ax.set_ylabel('Scores', color='indigo', fontsize=14)\n",
    "ax.set_xlabel('Algorithms', color='indigo', fontsize=14)\n",
    "ax.set_title('Scores Comparision by Hyperparameter Tunning',color='indigo',fontsize=16)\n",
    "ax.set_xticks(convert_str)\n",
    "ax.set_xticklabels(string,rotation=45,ha='center',fontsize=14,color='red')\n",
    "ax.legend()\n",
    "def autolabel(rects, xpos='center'):\n",
    "   ha = {'center': 'center', 'right': 'left', 'left': 'right'}\n",
    "   offset = {'center': 0, 'right': 1, 'left': -1}\n",
    "   for rect in rects:\n",
    "      height = rect.get_height()\n",
    "      ax.annotate('{}'.format(height),\n",
    "         xy=(rect.get_x() + rect.get_width() / 2, height),\n",
    "         xytext=(offset[xpos]*-20, 0), # use 3 points offset\n",
    "         textcoords=\"offset points\", # in both directions\n",
    "         ha=ha[xpos], va='bottom')\n",
    "\n",
    "autolabel(rects1, \"left\")\n",
    "autolabel(rects2, \"center\")\n",
    "autolabel(rects3, \"right\")\n",
    "\n",
    "fig.tight_layout()\n",
    "plt.savefig('Optimizeddd0.svg')\n",
    "plt.show()"
   ]
  },
  {
   "cell_type": "code",
   "execution_count": 71,
   "metadata": {},
   "outputs": [
    {
     "data": {
      "image/png": "[encoded data removed]",
      "text/plain": [
       "<Figure size 648x1224 with 3 Axes>"
      ]
     },
     "metadata": {
      "needs_background": "light"
     },
     "output_type": "display_data"
    }
   ],
   "source": [
    "fig, ax = plt.subplots(nrows =3 , ncols= 1,figsize=(9,17))\n",
    "#ax.set_title(\"Mean and Root mean squared Errors\")\n",
    "string= ['lR' ,'GBR','RFR' ]\n",
    "convert_str=np.arange(len(string))  # the label locations\n",
    "width = 0.22  # the width of the bars\n",
    "\n",
    "#ax[0]\n",
    "sBAE= [np.round(MAE,3),np.round(MAEG,3),np.round(MAER,3)]\n",
    "gridBAE=[np.round(lrmae,3),np.round(gbmae,3),np.round(rfrmae,3)]\n",
    "randomBAE=[np.round(rlrmae,3),np.round(rgbmae,3),np.round(rrfrmae,3)]\n",
    "ax[0].bar(convert_str- 0.25,sBAE,width,label='Mean Absolute Error with No Optimize')\n",
    "ax[0].bar(convert_str,gridBAE,width,label='Mean Absolute Error with Gridsearch')\n",
    "ax[0].bar(convert_str+ 0.25,randomBAE,width,label='Mean Absolute Error with Randomizedsearch')\n",
    "ax[0].legend(loc=\"upper left\")\n",
    "ax[0].set_xticks(convert_str)\n",
    "ax[0].set_xticklabels(string,rotation=45,ha='center',fontsize=14,color='red')\n",
    "ax[0].set_title(\"Mean Absolute Error Comparision by hypeparameter Tunning Methods\",color='indigo',fontsize=14)\n",
    "ax[0].set_ylabel('Mean Absolute Error', color='indigo',fontsize=16)\n",
    "ax[0].set_xlabel('Algorithms',color='indigo',fontsize=16)\n",
    "\n",
    "# ax[2]\n",
    "sBSSE= [MSE,MSEG,MSER]\n",
    "girdBSSE=[lrmse,gbmse,rfrmse]\n",
    "randomBSSE=[rlrmse,rgbmse,rrfrmse]\n",
    "ax[1].bar(convert_str- 0.25,sBSSE,width,label=' Mean Square Error with No Optimize')\n",
    "ax[1].bar(convert_str,girdBSSE,width,label=' Mean Square Error with Gridsearch')\n",
    "ax[1].bar(convert_str+ 0.25,randomBSSE,width,label=' Mean Square Error with Randomizedsearch')\n",
    "ax[1].legend(loc=\"upper left\")\n",
    "ax[1].set_xticks(convert_str)\n",
    "ax[1].set_xticklabels(string,rotation=45,ha='center',fontsize=14,color='red')\n",
    "ax[1].set_title(\"Mean Squared Errors Comparision by hypeparameter Tunning Methods\",color='indigo',fontsize=14)\n",
    "ax[1].set_ylabel('Mean Square Error',color='indigo',fontsize=16)\n",
    "ax[1].set_xlabel('Algorithms',color='indigo',fontsize=16)\n",
    "\n",
    "\n",
    "# ax[3]\n",
    "sBRSE=[np.round(RMSE,3),np.round(RMSEG,3),np.round(RMSER,3)]\n",
    "girdBRSE=[np.round(lrrmse,3),np.round(gbrmse,3),np.round(rfrrmse,3)]\n",
    "randomBRSE=[np.round(rlrrmse,3),np.round(rgbrmse,3),np.round(rrfrrmse,3)]\n",
    "ax[2].bar(convert_str- 0.25,sBRSE,width,label='Root Mean Square Error with No Optimize')\n",
    "ax[2].bar(convert_str,girdBRSE,width,label='Root Mean Square Error with Gridsearch')\n",
    "ax[2].bar(convert_str+ 0.25,randomBRSE,width,label='Root Mean Square Error with Randomizedsearch')\n",
    "ax[2].legend(loc=\"upper left\")\n",
    "ax[2].set_xticks(convert_str)\n",
    "ax[2].set_xticklabels(string,rotation=45,ha='center',fontsize=14,color='red')\n",
    "ax[2].set_title(\"Root Mean Squared Errors Comparision by hypeparameter Tunning Methods\",color='indigo',fontsize=14)\n",
    "ax[2].set_ylabel('Root Mean Squared Error',color='indigo',fontsize=16)\n",
    "ax[2].set_xlabel('Algorithms',color='indigo',fontsize=16)\n",
    "plt.tight_layout()\n",
    "plt.savefig('Mean_errors.png')\n",
    "plt.show()"
   ]
  },
  {
   "cell_type": "code",
   "execution_count": 72,
   "metadata": {},
   "outputs": [],
   "source": [
    "# string= ['lR' ,'GBR','RFR' ]\n",
    "# convert_str=np.arange(len(string))\n",
    "# ##################################\n",
    "# plt.figure(figsize=(8,10))\n",
    "# plt.xticks(convert_str,string,rotation=45)\n",
    "# accuracy= [np.round(sc1,3),np.round(sc2,3), np.round(sc3,3)]\n",
    "# gridsearch= [np.round(lrscore,3),np.round(gbscore,3),np.round(rfrscore,3)]\n",
    "# randomsearch=[np.round(rlrscore,3),np.round(rgbscore,3),np.round(rrfrscore,3)]\n",
    "# p1=plt.bar(convert_str-0.17,accuracy,width=0.17,label=\"Score with Simple Algorithms\")\n",
    "# p2=plt.bar(convert_str,gridsearch,width=0.17, label='Score with GridSearch')\n",
    "# p3=plt.bar(convert_str+0.17,randomsearch,width=0.17, label='Score with RandomizedSearch')\n",
    "# for i in range(len(string)):\n",
    "#      plt.text(i,accuracy[i],accuracy[i], ha = \"right\", va= \"top\")\n",
    "#      plt.text(i,gridsearch[i],gridsearch[i], ha = \"center\", va= \"bottom\")         \n",
    "#      plt.text(i,randomsearch[i],randomsearch[i], ha = \"left\", va= \"top\")\n",
    "# plt.ylabel('Score', color='red')\n",
    "# plt.xlabel('Algorithms',color='red')\n",
    "# #plt.bar_label(p1,)\n",
    "# plt.legend(loc='upper right')\n",
    "# plt.tight_layout()\n",
    "# plt.show()"
   ]
  },
  {
   "cell_type": "code",
   "execution_count": 73,
   "metadata": {},
   "outputs": [],
   "source": [
    "# from sklearn.preprocessing import StandardScaler\n",
    "# #from sklearn.preprocessing import MinMaxScaler\n",
    "\n",
    "# # fit scaler on training data\n",
    "# norm = StandardScaler().fit(x_train)\n",
    "\n",
    "# # transform training data\n",
    "# X_train_norm = norm.transform(x_train)\n",
    "\n",
    "# # transform testing dataabs\n",
    "# X_test_norm = norm.transform(x_test)"
   ]
  },
  {
   "cell_type": "code",
   "execution_count": null,
   "metadata": {},
   "outputs": [],
   "source": [
    "# plt.figure(figsize=(3,6))\n",
    "# plt.subplot(3,1,1)\n",
    "# plt.xticks(aaes,AAE,rotation=45)\n",
    "# BAE= (MAE,MAEG,MAER)\n",
    "# plt.bar(aaes,BAE,label='Mean Absolute Error',width=0.5,color=['red','Green','brown'])\n",
    "# plt.ylabel('Mean Absolute Error', color='red')\n",
    "# plt.xlabel('Algorithms',color='red')\n",
    "\n",
    "# plt.subplot(3,1,2)\n",
    "# plt.xticks(aaes,AAE,rotation=45)\n",
    "# BSE= (MSE,MSEG,MSER)\n",
    "# plt.bar(aaes,BSE, label=' Mean Square Error',width=0.5,color=['red','Green','red'])\n",
    "# plt.ylabel('Mean Square Error',color='red')\n",
    "# plt.xlabel('Algorithms',color='red')\n",
    "\n",
    "# plt.subplot(3,1,3)\n",
    "# plt.xticks(aaes,AAE,rotation=45)\n",
    "# BRSE=(RMSE,RMSEG,RMSER)\n",
    "# plt.bar(aaes,BRSE,label='Root Mean Square Error',width=0.5,color=['Blue','Green','Black'])\n",
    "# plt.xticks(rotation=30)\n",
    "# plt.ylabel('Root Mean Squared Error',color='red')\n",
    "# plt.xlabel('Algorithms',color='red')\n",
    "# plt.tight_layout()\n",
    "# plt.legend()\n",
    "# plt.show()"
   ]
  },
  {
   "cell_type": "code",
   "execution_count": null,
   "metadata": {},
   "outputs": [],
   "source": [
    "# parameters_lr = {'fit_intercept':[True,False], \n",
    "#               'normalize':[True,False], \n",
    "#               'copy_X':[True, False]\n",
    "#               }\n",
    "\n",
    "\n",
    "# grid = GridSearchCV(lm,parameters_lr,cv=5,scoring='neg_mean_absolute_error', cv=5,n_jobs=-1, verbose = 0)\n",
    "# #grid = GridSearchCV(lm,parameters_lr, cv=5,scoring='neg_mean_absolute_error',n_jobs=-1)\n",
    "# grid.fit(X_train, y_train)\n",
    "# print(grid.best_params_)\n",
    "# lrmae=-grid.best_score_\n",
    "# #rmae=-lrmae\n",
    "# print(\"The score of optimized linear regression using the Gridsearchcv: \",lrmae)"
   ]
  },
  {
   "cell_type": "code",
   "execution_count": null,
   "metadata": {},
   "outputs": [],
   "source": [
    "# AAE= ['linear Regression' ,'Gradient Boosting Regeession','Random Forest Regression' ]\n",
    "# aaes=np.arange(len(AAE))"
   ]
  },
  {
   "cell_type": "code",
   "execution_count": null,
   "metadata": {},
   "outputs": [],
   "source": [
    "# #plt.figure(figsize=(10,10))\n",
    "# #plt.subplot(2,2,1)\n",
    "# AAE= ['linear Regression' ,'Gradient Boosting Regeession','Random Forest Regression' ]\n",
    "# aaes=np.arange(len(AAE))\n",
    "# plt.xticks(aaes,AAE,rotation=45)\n",
    "# BAE= [MAE,MAEG,MAER]\n",
    "# BSE= [MSE,MSEG,MSER]\n",
    "# BRSE=[RMSE,RMSEG,RMSER]\n",
    "\n",
    "# plt.bar(aaes,BAE,width=0.3)\n",
    "# plt.bar(aaes+0.4,BSE,width=0.5)\n",
    "# plt.bar(aaes+0.8,BRSE,width=0.5)\n",
    "# plt.ylabel('Mean Absolute Error', color='red')\n",
    "# plt.xlabel('Algorithms',color='red')\n"
   ]
  },
  {
   "cell_type": "markdown",
   "metadata": {},
   "source": [
    "# Performance of Algorithms according to the RMAE"
   ]
  },
  {
   "cell_type": "code",
   "execution_count": null,
   "metadata": {},
   "outputs": [],
   "source": [
    "# ARAE= ['linear Regression' ,'Gradient Boosting Regeession','Random Forest Regression' ]\n",
    "# BRAE= (RMAE,RMAEG,RMAER)\n",
    "# ax=plt.figure(figsize=(8,6))\n",
    "# plt.bar( ARAE,BRAE, label='Root Mean Absolute Error',color=['red','Green','Yellow'])\n",
    "# plt.ylabel('Root Mean Absolute Error',color='red')\n",
    "# plt.xlabel('Algorithms',color='red')\n",
    "# plt.legend()\n",
    "# plt.show()"
   ]
  },
  {
   "cell_type": "code",
   "execution_count": null,
   "metadata": {},
   "outputs": [],
   "source": [
    "# parameters_gb= {   \n",
    "#                   'learning_rate': [0.01,0.02,0.03,0.04],\n",
    "#                   'subsample'    : [0.1,0.2,0.5,0.9,1.0],\n",
    "#                   'n_estimators' : [5,10,200, 100],\n",
    "#                   'max_depth'    : [3,4,5,6]\n",
    "#                 }\n",
    "\n",
    "# grid_gb = GridSearchCV(grb,parameters_gb, cv=5,n_jobs=-1,scoring='neg_mean_squared_error', verbose = 2)\n",
    "# #grid_gb = GridSearchCV(grb,parameters_gb, cv=5,n_jobs=-1,scoring='neg_mean_absolute_error')\n",
    "# grid_gb.fit(X_train, y_train.values.ravel())\n",
    "# #grid_gb.best_estimators_\n",
    "# print(grid_gb.best_params_)\n",
    "# gbmse=-grid_gb.best_score_\n",
    "# #gmae=-gbmae\n",
    "# print(\"The score of optimized GradientB using the Gridsearchcv: \",gbmse)\n",
    "#  grmse=np.sqrt(gbmse)\n",
    "#  print(\"The Root mean squared error of optimized GradientB regression using the Gridsearchcv:\",grmse)"
   ]
  },
  {
   "cell_type": "code",
   "execution_count": null,
   "metadata": {},
   "outputs": [],
   "source": [
    "# parameters_gb= {   \n",
    "#                   'learning_rate': [0.01,0.02,0.03,0.04],\n",
    "#                   'subsample'    : [0.1,0.2,0.5,0.9,1.0],\n",
    "#                   'n_estimators' : [5,10,200, 100],\n",
    "#                   'max_depth'    : [3,4,5,6]\n",
    "#                 }\n",
    "\n",
    "# grid_gb = GridSearchCV(grb,parameters_gb, cv=5,n_jobs=-1,scoring='neg_mean_absolute_error', verbose = 2)\n",
    "# #grid_gb = GridSearchCV(grb,parameters_gb, cv=5,n_jobs=-1,scoring='neg_mean_absolute_error')\n",
    "# grid_gb.fit(X_train, y_train.values.ravel())\n",
    "# #grid_gb.best_estimators_\n",
    "# print(grid_gb.best_params_)\n",
    "# gbmae=-grid_gb.best_score_\n",
    "# #gmae=-gbmae\n",
    "# print(\"The score of optimized GradientB using the Gridsearchcv: \",gbmae)"
   ]
  },
  {
   "cell_type": "code",
   "execution_count": null,
   "metadata": {},
   "outputs": [],
   "source": [
    "# parameters_lr = {'fit_intercept':[True,False], \n",
    "#               'normalize':[True,False], \n",
    "#               'copy_X':[True, False]\n",
    "#               }\n",
    "\n",
    "\n",
    "# grid = GridSearchCV(lm,parameters_lr,cv=5,scoring='neg_mean_squared_error', cv=5,n_jobs=-1, verbose = 0)\n",
    "# #grid = GridSearchCV(lm,parameters_lr, cv=5,scoring='neg_mean_absolute_error',n_jobs=-1)\n",
    "# grid.fit(X_train, y_train)\n",
    "# print(grid.best_params_)\n",
    "# lrmse=-grid.best_score_\n",
    "# #rmae=-lrmae\n",
    "# print(\"The score of optimized linear regression using the Gridsearchcv: \",lrmse)\n",
    "# lrrmse=np.sqrt(gbmse)\n",
    "#  print(\"The Root mean squared error of optimized GradientB regression using the Gridsearchcv:\",lrrmse)"
   ]
  },
  {
   "cell_type": "markdown",
   "metadata": {},
   "source": [
    "# Performance of Algorithms according to the MSE"
   ]
  },
  {
   "cell_type": "code",
   "execution_count": null,
   "metadata": {},
   "outputs": [],
   "source": [
    "# ASE= ['linear Regression' ,'Gradient Boosting Regeession','Random Forest Regression' ]\n",
    "# BSE= (MSE,MSEG,MSER)\n",
    "# ax=plt.figure(figsize=(8,6))\n",
    "# plt.bar( ASE,BSE, label=' Mean Square Error',color=['red','Green','red'])\n",
    "# plt.ylabel('Mean Square Error',color='red')\n",
    "# plt.xlabel('Algorithms',color='red')\n",
    "# plt.legend()\n",
    "# plt.show()"
   ]
  },
  {
   "cell_type": "markdown",
   "metadata": {},
   "source": [
    "# Performance of Algorithms according to the RMSE"
   ]
  },
  {
   "cell_type": "code",
   "execution_count": null,
   "metadata": {},
   "outputs": [],
   "source": [
    "# ARSE= ['linear Regression' ,'Gradient Boosting Regeession','Random Forest Regression' ]\n",
    "# BRSE=(RMSE,RMSEG,RMSER)\n",
    "# ax=plt.figure(figsize=(8,6))\n",
    "# plt.bar( ARSE,BRSE,label='Root Mean Square Error',color=['Blue','Green','Black'])\n",
    "# plt.ylabel('Root Mean Squared Error',color='red')\n",
    "# plt.xlabel('Algorithms',color='red')\n",
    "# plt.legend()\n",
    "# plt.show()"
   ]
  },
  {
   "cell_type": "code",
   "execution_count": null,
   "metadata": {},
   "outputs": [],
   "source": [
    "\n",
    "# parameters_lr = {'fit_intercept':[True,False], \n",
    "#               'normalize':[True,False], \n",
    "#               'copy_X':[True, False]}\n",
    "\n",
    "# grid = GridSearchCV(lm,parameters_lr, cv=5,scoring='neg_mean_absolute_error',n_jobs=-1)\n",
    "# grid.fit(x_train, y_train)\n",
    "# grid.best_params_\n",
    "# lrmae=grid.best_score_\n",
    "# rmae=-lrmae\n",
    "# print(\"The Mean Absolute error of optimized linear regression using the Gridsearchcv: \",rmae)"
   ]
  },
  {
   "cell_type": "code",
   "execution_count": null,
   "metadata": {},
   "outputs": [],
   "source": [
    "\n",
    "# parameters_lr = {'fit_intercept':[True,False], \n",
    "#               'normalize':[True,False], \n",
    "#               'copy_X':[True, False]}\n",
    "\n",
    "# grid = GridSearchCV(lm,parameters, cv=5,scoring='neg_mean_squared_error')\n",
    "# grid.fit(x_train, y_train)\n",
    "# grid.best_params_\n",
    "# lrmse=grid.best_score_\n",
    "# rmse=-lrmse\n",
    "# print(\"The Mean squared error of optimized linear regression using the Gridsearchcv: \",rmse)\n",
    "# rootmse=np.sqrt(rmse)\n",
    "# print(\"The Root mean squared error of optimized linear regression using the Gridsearchcv:\",rootmse)"
   ]
  },
  {
   "cell_type": "code",
   "execution_count": null,
   "metadata": {},
   "outputs": [],
   "source": [
    "\n",
    "# parameters_gb= {     'learning_rate': [0.01,0.02,0.03,0.04],\n",
    "#                   'subsample'    : [0.1,0.2,0.5,0.9,1.0],\n",
    "#                   'n_estimators' : [100,500,1000, 1500],\n",
    "#                   'max_depth'    : [3,4,5,6]}\n",
    "\n",
    "# grid_gb = GridSearchCV(grb,parameters_gb, cv=5,n_jobs=-1,scoring='neg_mean_absolute_error')\n",
    "# grid_gb.fit(x_train, y_train)\n",
    "# #grid_gb.best_estimators_\n",
    "# grid_gb.best_params\n",
    "# gbmae=grid_gb.best_score_\n",
    "# gmae=-gbmae\n",
    "# print(\"The Mean Absolute error of optimized GradientB using the Gridsearchcv: \",gmae)"
   ]
  },
  {
   "cell_type": "code",
   "execution_count": null,
   "metadata": {},
   "outputs": [],
   "source": [
    "\n",
    "# parameters_gb= {     'learning_rate': [0.01,0.02,0.03,0.04],\n",
    "#                   'subsample'    : [0.1,0.2,0.5,0.9,1.0],\n",
    "#                   'n_estimators' : [100,500,1000, 1500],\n",
    "#                   'max_depth'    : [3,4,5,6]}\n",
    "\n",
    "# grid_gb = GridSearchCV(grb,parameters_gb, cv=5,n_jobs=-1,scoring='neg_mean_squared_error')\n",
    "# grid_gb.fit(x_train, y_train)\n",
    "# grid_gb.best_estimators_\n",
    "# grid_gb.best_params\n",
    "# gbmse=grid_gb.best_score_\n",
    "# gmse=-gbmse\n",
    "# print(\"The Mean squared error of optimized GradientB regression using the Gridsearchcv: \",gbmse)\n",
    "# grmse=np.sqrt(gbmse)\n",
    "# print(\"The Root mean squared error of optimized GradientB regression using the Gridsearchcv:\",grmse)"
   ]
  },
  {
   "cell_type": "code",
   "execution_count": null,
   "metadata": {},
   "outputs": [],
   "source": [
    "\n",
    "# param_rfr = {\n",
    "#     'bootstrap': [True],\n",
    "#     'max_depth': [3, 4, 5, None],\n",
    "#     'max_features': ['auto', 'log2'],\n",
    "#     'min_samples_leaf': [1,3, 4, 5],\n",
    "#     'min_samples_split': [1, 8, 10, 12],\n",
    "#     'n_estimators': [5,6,7,8,20,55,100]\n",
    "# }\n",
    "# grid_rfr = GridSearchCV(estimator = rfr, param_grid = param_rfr, \n",
    "#                           cv = 5, n_jobs = -1,scoring='neg_mean_absolute_error')\n",
    "# grid_rfr.fit(x_train, y_train)\n",
    "# grid_rfr.best_params\n",
    "# rfrmae=grid_rfr.best_score_\n",
    "# rfmae=-rfrmae\n",
    "# print(\"The Mean Absolute error of optimized Random forest regression using the Gridsearchcv: \",rfmae)"
   ]
  },
  {
   "cell_type": "code",
   "execution_count": null,
   "metadata": {},
   "outputs": [],
   "source": [
    "\n",
    "# param_rfr = {\n",
    "#     'bootstrap': [True],\n",
    "#     'max_depth': [3, 4, 5, None],\n",
    "#     'max_features': ['auto', 'log2'],\n",
    "#     'min_samples_leaf': [1,3, 4, 5],\n",
    "#     'min_samples_split': [1, 8, 10, 12],\n",
    "#     'n_estimators': [100, 200, 300, 1000]\n",
    "# }\n",
    "# grid_search = GridSearchCV(estimator = rfr, param_grid = param_rfr, \n",
    "#                           cv = 5, n_jobs = -1,scoring='neg_mean_squared_error')\n",
    "# grid_rfr.fit(x_train, y_train)\n",
    "# grid_rfr.best_estimators_\n",
    "# grid_rfr.best_params\n",
    "# rfrmse=grid_rfr.best_score_\n",
    "# rfmse=-rfrmse\n",
    "# print(\"The Mean squared error of random forest regression using the Gridsearchcv: \",rfmse)\n",
    "# rrmse=np.sqrt(rfmse)\n",
    "# print(\"The Root mean squared error of random forest regression using the Gridsearchcv:\",rrmse)"
   ]
  }
 ],
 "metadata": {
  "kernelspec": {
   "display_name": "Python 3 (ipykernel)",
   "language": "python",
   "name": "python3"
  },
  "language_info": {
   "codemirror_mode": {
    "name": "ipython",
    "version": 3
   },
   "file_extension": ".py",
   "mimetype": "text/x-python",
   "name": "python",
   "nbconvert_exporter": "python",
   "pygments_lexer": "ipython3",
   "version": "3.10.9"
  }
 },
 "nbformat": 4,
 "nbformat_minor": 2
}
